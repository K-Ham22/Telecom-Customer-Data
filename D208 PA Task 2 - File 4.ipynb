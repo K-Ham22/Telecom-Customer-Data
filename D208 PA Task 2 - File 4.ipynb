{
 "cells": [
  {
   "cell_type": "markdown",
   "id": "b79c0713-9149-4e0e-adad-3f0e1102ce60",
   "metadata": {},
   "source": [
    "# D208 Predictive Modeling | **PA Task 2** | FILE 4\n",
    "### Research Question: What factors influence customer churn?"
   ]
  },
  {
   "cell_type": "code",
   "execution_count": 1,
   "id": "bee45d69-f7bf-472d-a456-f926034e3f3e",
   "metadata": {},
   "outputs": [
    {
     "name": "stdout",
     "output_type": "stream",
     "text": [
      "3.10.11 (tags/v3.10.11:7d4cc5a, Apr  5 2023, 00:38:17) [MSC v.1929 64 bit (AMD64)]\n"
     ]
    }
   ],
   "source": [
    "import sys\n",
    "print(sys.version)"
   ]
  },
  {
   "cell_type": "code",
   "execution_count": 2,
   "id": "a3106d99-50f6-48ef-b28c-ec88db8eb9a4",
   "metadata": {},
   "outputs": [],
   "source": [
    "import pandas as pd\n",
    "import numpy as np\n",
    "import seaborn as sns\n",
    "import matplotlib as plt\n",
    "from statsmodels.formula.api import ols\n",
    "from statsmodels.api import qqplot \n",
    "from statsmodels.formula.api import logit\n",
    "from statsmodels.graphics.mosaicplot import mosaic"
   ]
  },
  {
   "cell_type": "code",
   "execution_count": 3,
   "id": "737c5723-6483-4a15-96e4-8b5f01cc6dd5",
   "metadata": {},
   "outputs": [
    {
     "data": {
      "text/html": [
       "<div>\n",
       "<style scoped>\n",
       "    .dataframe tbody tr th:only-of-type {\n",
       "        vertical-align: middle;\n",
       "    }\n",
       "\n",
       "    .dataframe tbody tr th {\n",
       "        vertical-align: top;\n",
       "    }\n",
       "\n",
       "    .dataframe thead th {\n",
       "        text-align: right;\n",
       "    }\n",
       "</style>\n",
       "<table border=\"1\" class=\"dataframe\">\n",
       "  <thead>\n",
       "    <tr style=\"text-align: right;\">\n",
       "      <th></th>\n",
       "      <th>Population</th>\n",
       "      <th>Age</th>\n",
       "      <th>Income</th>\n",
       "      <th>Churn</th>\n",
       "      <th>Outage_sec_perweek</th>\n",
       "      <th>Yearly_equip_failure</th>\n",
       "      <th>Techie</th>\n",
       "      <th>Port_modem</th>\n",
       "      <th>Tablet</th>\n",
       "      <th>Phone</th>\n",
       "      <th>Multiple</th>\n",
       "      <th>OnlineSecurity</th>\n",
       "      <th>OnlineBackup</th>\n",
       "      <th>StreamingTV</th>\n",
       "      <th>StreamingMovies</th>\n",
       "      <th>Tenure</th>\n",
       "      <th>MonthlyCharge</th>\n",
       "      <th>Bandwidth_GB_Year</th>\n",
       "      <th>InternetService_DSL</th>\n",
       "      <th>InternetService_Fiber Optic</th>\n",
       "    </tr>\n",
       "  </thead>\n",
       "  <tbody>\n",
       "    <tr>\n",
       "      <th>0</th>\n",
       "      <td>38</td>\n",
       "      <td>68</td>\n",
       "      <td>28561.99</td>\n",
       "      <td>0</td>\n",
       "      <td>7.978323</td>\n",
       "      <td>1</td>\n",
       "      <td>0</td>\n",
       "      <td>1</td>\n",
       "      <td>1</td>\n",
       "      <td>1</td>\n",
       "      <td>0</td>\n",
       "      <td>1</td>\n",
       "      <td>1</td>\n",
       "      <td>0</td>\n",
       "      <td>1</td>\n",
       "      <td>6.795513</td>\n",
       "      <td>172.455519</td>\n",
       "      <td>904.536110</td>\n",
       "      <td>0</td>\n",
       "      <td>1</td>\n",
       "    </tr>\n",
       "    <tr>\n",
       "      <th>1</th>\n",
       "      <td>10446</td>\n",
       "      <td>27</td>\n",
       "      <td>21704.77</td>\n",
       "      <td>1</td>\n",
       "      <td>11.699080</td>\n",
       "      <td>1</td>\n",
       "      <td>1</td>\n",
       "      <td>0</td>\n",
       "      <td>1</td>\n",
       "      <td>1</td>\n",
       "      <td>1</td>\n",
       "      <td>1</td>\n",
       "      <td>0</td>\n",
       "      <td>1</td>\n",
       "      <td>1</td>\n",
       "      <td>1.156681</td>\n",
       "      <td>242.632554</td>\n",
       "      <td>800.982766</td>\n",
       "      <td>0</td>\n",
       "      <td>1</td>\n",
       "    </tr>\n",
       "    <tr>\n",
       "      <th>2</th>\n",
       "      <td>3735</td>\n",
       "      <td>50</td>\n",
       "      <td>9609.57</td>\n",
       "      <td>0</td>\n",
       "      <td>10.752800</td>\n",
       "      <td>1</td>\n",
       "      <td>1</td>\n",
       "      <td>1</td>\n",
       "      <td>0</td>\n",
       "      <td>1</td>\n",
       "      <td>1</td>\n",
       "      <td>0</td>\n",
       "      <td>0</td>\n",
       "      <td>0</td>\n",
       "      <td>1</td>\n",
       "      <td>15.754144</td>\n",
       "      <td>159.947583</td>\n",
       "      <td>2054.706961</td>\n",
       "      <td>1</td>\n",
       "      <td>0</td>\n",
       "    </tr>\n",
       "    <tr>\n",
       "      <th>3</th>\n",
       "      <td>13863</td>\n",
       "      <td>48</td>\n",
       "      <td>18925.23</td>\n",
       "      <td>0</td>\n",
       "      <td>14.913540</td>\n",
       "      <td>0</td>\n",
       "      <td>1</td>\n",
       "      <td>0</td>\n",
       "      <td>0</td>\n",
       "      <td>1</td>\n",
       "      <td>0</td>\n",
       "      <td>1</td>\n",
       "      <td>0</td>\n",
       "      <td>1</td>\n",
       "      <td>0</td>\n",
       "      <td>17.087227</td>\n",
       "      <td>119.956840</td>\n",
       "      <td>2164.579412</td>\n",
       "      <td>1</td>\n",
       "      <td>0</td>\n",
       "    </tr>\n",
       "    <tr>\n",
       "      <th>4</th>\n",
       "      <td>11352</td>\n",
       "      <td>83</td>\n",
       "      <td>40074.19</td>\n",
       "      <td>1</td>\n",
       "      <td>8.147417</td>\n",
       "      <td>1</td>\n",
       "      <td>0</td>\n",
       "      <td>1</td>\n",
       "      <td>0</td>\n",
       "      <td>0</td>\n",
       "      <td>0</td>\n",
       "      <td>0</td>\n",
       "      <td>0</td>\n",
       "      <td>1</td>\n",
       "      <td>0</td>\n",
       "      <td>1.670972</td>\n",
       "      <td>149.948316</td>\n",
       "      <td>271.493436</td>\n",
       "      <td>0</td>\n",
       "      <td>1</td>\n",
       "    </tr>\n",
       "  </tbody>\n",
       "</table>\n",
       "</div>"
      ],
      "text/plain": [
       "   Population  Age    Income  Churn  Outage_sec_perweek  Yearly_equip_failure   \n",
       "0          38   68  28561.99      0            7.978323                     1  \\\n",
       "1       10446   27  21704.77      1           11.699080                     1   \n",
       "2        3735   50   9609.57      0           10.752800                     1   \n",
       "3       13863   48  18925.23      0           14.913540                     0   \n",
       "4       11352   83  40074.19      1            8.147417                     1   \n",
       "\n",
       "   Techie  Port_modem  Tablet  Phone  Multiple  OnlineSecurity  OnlineBackup   \n",
       "0       0           1       1      1         0               1             1  \\\n",
       "1       1           0       1      1         1               1             0   \n",
       "2       1           1       0      1         1               0             0   \n",
       "3       1           0       0      1         0               1             0   \n",
       "4       0           1       0      0         0               0             0   \n",
       "\n",
       "   StreamingTV  StreamingMovies     Tenure  MonthlyCharge  Bandwidth_GB_Year   \n",
       "0            0                1   6.795513     172.455519         904.536110  \\\n",
       "1            1                1   1.156681     242.632554         800.982766   \n",
       "2            0                1  15.754144     159.947583        2054.706961   \n",
       "3            1                0  17.087227     119.956840        2164.579412   \n",
       "4            1                0   1.670972     149.948316         271.493436   \n",
       "\n",
       "   InternetService_DSL  InternetService_Fiber Optic  \n",
       "0                    0                            1  \n",
       "1                    0                            1  \n",
       "2                    1                            0  \n",
       "3                    1                            0  \n",
       "4                    0                            1  "
      ]
     },
     "execution_count": 3,
     "metadata": {},
     "output_type": "execute_result"
    }
   ],
   "source": [
    "df= pd.read_csv('prepared_dataset_churn_D208.csv')\n",
    "df.head()"
   ]
  },
  {
   "cell_type": "code",
   "execution_count": 4,
   "id": "d1ac1f6c-f880-4a8c-9703-f6cb100b276c",
   "metadata": {},
   "outputs": [
    {
     "data": {
      "text/html": [
       "<div>\n",
       "<style scoped>\n",
       "    .dataframe tbody tr th:only-of-type {\n",
       "        vertical-align: middle;\n",
       "    }\n",
       "\n",
       "    .dataframe tbody tr th {\n",
       "        vertical-align: top;\n",
       "    }\n",
       "\n",
       "    .dataframe thead th {\n",
       "        text-align: right;\n",
       "    }\n",
       "</style>\n",
       "<table border=\"1\" class=\"dataframe\">\n",
       "  <thead>\n",
       "    <tr style=\"text-align: right;\">\n",
       "      <th></th>\n",
       "      <th>Population</th>\n",
       "      <th>Age</th>\n",
       "      <th>Income</th>\n",
       "      <th>Churn</th>\n",
       "      <th>Outage_sec_perweek</th>\n",
       "      <th>Yearly_equip_failure</th>\n",
       "      <th>Techie</th>\n",
       "      <th>Port_modem</th>\n",
       "      <th>Tablet</th>\n",
       "      <th>Phone</th>\n",
       "      <th>Multiple</th>\n",
       "      <th>OnlineSecurity</th>\n",
       "      <th>OnlineBackup</th>\n",
       "      <th>StreamingTV</th>\n",
       "      <th>StreamingMovies</th>\n",
       "      <th>Tenure</th>\n",
       "      <th>MonthlyCharge</th>\n",
       "      <th>Bandwidth_GB_Year</th>\n",
       "      <th>InternetService_DSL</th>\n",
       "      <th>InternetService_FiberOptic</th>\n",
       "    </tr>\n",
       "  </thead>\n",
       "  <tbody>\n",
       "    <tr>\n",
       "      <th>0</th>\n",
       "      <td>38</td>\n",
       "      <td>68</td>\n",
       "      <td>28561.99</td>\n",
       "      <td>0</td>\n",
       "      <td>7.978323</td>\n",
       "      <td>1</td>\n",
       "      <td>0</td>\n",
       "      <td>1</td>\n",
       "      <td>1</td>\n",
       "      <td>1</td>\n",
       "      <td>0</td>\n",
       "      <td>1</td>\n",
       "      <td>1</td>\n",
       "      <td>0</td>\n",
       "      <td>1</td>\n",
       "      <td>6.795513</td>\n",
       "      <td>172.455519</td>\n",
       "      <td>904.536110</td>\n",
       "      <td>0</td>\n",
       "      <td>1</td>\n",
       "    </tr>\n",
       "    <tr>\n",
       "      <th>1</th>\n",
       "      <td>10446</td>\n",
       "      <td>27</td>\n",
       "      <td>21704.77</td>\n",
       "      <td>1</td>\n",
       "      <td>11.699080</td>\n",
       "      <td>1</td>\n",
       "      <td>1</td>\n",
       "      <td>0</td>\n",
       "      <td>1</td>\n",
       "      <td>1</td>\n",
       "      <td>1</td>\n",
       "      <td>1</td>\n",
       "      <td>0</td>\n",
       "      <td>1</td>\n",
       "      <td>1</td>\n",
       "      <td>1.156681</td>\n",
       "      <td>242.632554</td>\n",
       "      <td>800.982766</td>\n",
       "      <td>0</td>\n",
       "      <td>1</td>\n",
       "    </tr>\n",
       "    <tr>\n",
       "      <th>2</th>\n",
       "      <td>3735</td>\n",
       "      <td>50</td>\n",
       "      <td>9609.57</td>\n",
       "      <td>0</td>\n",
       "      <td>10.752800</td>\n",
       "      <td>1</td>\n",
       "      <td>1</td>\n",
       "      <td>1</td>\n",
       "      <td>0</td>\n",
       "      <td>1</td>\n",
       "      <td>1</td>\n",
       "      <td>0</td>\n",
       "      <td>0</td>\n",
       "      <td>0</td>\n",
       "      <td>1</td>\n",
       "      <td>15.754144</td>\n",
       "      <td>159.947583</td>\n",
       "      <td>2054.706961</td>\n",
       "      <td>1</td>\n",
       "      <td>0</td>\n",
       "    </tr>\n",
       "    <tr>\n",
       "      <th>3</th>\n",
       "      <td>13863</td>\n",
       "      <td>48</td>\n",
       "      <td>18925.23</td>\n",
       "      <td>0</td>\n",
       "      <td>14.913540</td>\n",
       "      <td>0</td>\n",
       "      <td>1</td>\n",
       "      <td>0</td>\n",
       "      <td>0</td>\n",
       "      <td>1</td>\n",
       "      <td>0</td>\n",
       "      <td>1</td>\n",
       "      <td>0</td>\n",
       "      <td>1</td>\n",
       "      <td>0</td>\n",
       "      <td>17.087227</td>\n",
       "      <td>119.956840</td>\n",
       "      <td>2164.579412</td>\n",
       "      <td>1</td>\n",
       "      <td>0</td>\n",
       "    </tr>\n",
       "    <tr>\n",
       "      <th>4</th>\n",
       "      <td>11352</td>\n",
       "      <td>83</td>\n",
       "      <td>40074.19</td>\n",
       "      <td>1</td>\n",
       "      <td>8.147417</td>\n",
       "      <td>1</td>\n",
       "      <td>0</td>\n",
       "      <td>1</td>\n",
       "      <td>0</td>\n",
       "      <td>0</td>\n",
       "      <td>0</td>\n",
       "      <td>0</td>\n",
       "      <td>0</td>\n",
       "      <td>1</td>\n",
       "      <td>0</td>\n",
       "      <td>1.670972</td>\n",
       "      <td>149.948316</td>\n",
       "      <td>271.493436</td>\n",
       "      <td>0</td>\n",
       "      <td>1</td>\n",
       "    </tr>\n",
       "  </tbody>\n",
       "</table>\n",
       "</div>"
      ],
      "text/plain": [
       "   Population  Age    Income  Churn  Outage_sec_perweek  Yearly_equip_failure   \n",
       "0          38   68  28561.99      0            7.978323                     1  \\\n",
       "1       10446   27  21704.77      1           11.699080                     1   \n",
       "2        3735   50   9609.57      0           10.752800                     1   \n",
       "3       13863   48  18925.23      0           14.913540                     0   \n",
       "4       11352   83  40074.19      1            8.147417                     1   \n",
       "\n",
       "   Techie  Port_modem  Tablet  Phone  Multiple  OnlineSecurity  OnlineBackup   \n",
       "0       0           1       1      1         0               1             1  \\\n",
       "1       1           0       1      1         1               1             0   \n",
       "2       1           1       0      1         1               0             0   \n",
       "3       1           0       0      1         0               1             0   \n",
       "4       0           1       0      0         0               0             0   \n",
       "\n",
       "   StreamingTV  StreamingMovies     Tenure  MonthlyCharge  Bandwidth_GB_Year   \n",
       "0            0                1   6.795513     172.455519         904.536110  \\\n",
       "1            1                1   1.156681     242.632554         800.982766   \n",
       "2            0                1  15.754144     159.947583        2054.706961   \n",
       "3            1                0  17.087227     119.956840        2164.579412   \n",
       "4            1                0   1.670972     149.948316         271.493436   \n",
       "\n",
       "   InternetService_DSL  InternetService_FiberOptic  \n",
       "0                    0                           1  \n",
       "1                    0                           1  \n",
       "2                    1                           0  \n",
       "3                    1                           0  \n",
       "4                    0                           1  "
      ]
     },
     "execution_count": 4,
     "metadata": {},
     "output_type": "execute_result"
    }
   ],
   "source": [
    "df.rename(columns={'InternetService_Fiber Optic' : 'InternetService_FiberOptic'}, inplace=True)\n",
    "df.head()"
   ]
  },
  {
   "cell_type": "markdown",
   "id": "79d87038-292a-446f-ad0c-681420870f83",
   "metadata": {},
   "source": [
    "# INITIAL MODEL"
   ]
  },
  {
   "cell_type": "code",
   "execution_count": 5,
   "id": "06e5405c-8585-4834-8362-00a04e7ad80b",
   "metadata": {},
   "outputs": [
    {
     "name": "stdout",
     "output_type": "stream",
     "text": [
      "Optimization terminated successfully.\n",
      "         Current function value: 0.303971\n",
      "         Iterations 8\n"
     ]
    }
   ],
   "source": [
    "model_initial = logit(\"Churn ~ Bandwidth_GB_Year + MonthlyCharge + Population + Age + Income + Outage_sec_perweek + Yearly_equip_failure + Techie + Port_modem + Tablet + Phone + Multiple + OnlineSecurity + OnlineBackup + StreamingTV + StreamingMovies + Tenure + InternetService_DSL + InternetService_FiberOptic\", \n",
    "                      data=df).fit()"
   ]
  },
  {
   "cell_type": "code",
   "execution_count": 6,
   "id": "a9ed3448-b0e2-4e3f-bc21-c2cc0382c7ad",
   "metadata": {},
   "outputs": [
    {
     "data": {
      "text/html": [
       "<table class=\"simpletable\">\n",
       "<caption>Logit Regression Results</caption>\n",
       "<tr>\n",
       "  <th>Dep. Variable:</th>         <td>Churn</td>      <th>  No. Observations:  </th>  <td>  9991</td> \n",
       "</tr>\n",
       "<tr>\n",
       "  <th>Model:</th>                 <td>Logit</td>      <th>  Df Residuals:      </th>  <td>  9971</td> \n",
       "</tr>\n",
       "<tr>\n",
       "  <th>Method:</th>                 <td>MLE</td>       <th>  Df Model:          </th>  <td>    19</td> \n",
       "</tr>\n",
       "<tr>\n",
       "  <th>Date:</th>            <td>Mon, 20 Nov 2023</td> <th>  Pseudo R-squ.:     </th>  <td>0.4745</td> \n",
       "</tr>\n",
       "<tr>\n",
       "  <th>Time:</th>                <td>21:35:31</td>     <th>  Log-Likelihood:    </th> <td> -3037.0</td>\n",
       "</tr>\n",
       "<tr>\n",
       "  <th>converged:</th>             <td>True</td>       <th>  LL-Null:           </th> <td> -5779.4</td>\n",
       "</tr>\n",
       "<tr>\n",
       "  <th>Covariance Type:</th>     <td>nonrobust</td>    <th>  LLR p-value:       </th>  <td> 0.000</td> \n",
       "</tr>\n",
       "</table>\n",
       "<table class=\"simpletable\">\n",
       "<tr>\n",
       "               <td></td>                 <th>coef</th>     <th>std err</th>      <th>z</th>      <th>P>|z|</th>  <th>[0.025</th>    <th>0.975]</th>  \n",
       "</tr>\n",
       "<tr>\n",
       "  <th>Intercept</th>                  <td>   -4.6518</td> <td>    0.305</td> <td>  -15.269</td> <td> 0.000</td> <td>   -5.249</td> <td>   -4.055</td>\n",
       "</tr>\n",
       "<tr>\n",
       "  <th>Bandwidth_GB_Year</th>          <td>    0.0004</td> <td>    0.000</td> <td>    1.023</td> <td> 0.306</td> <td>   -0.000</td> <td>    0.001</td>\n",
       "</tr>\n",
       "<tr>\n",
       "  <th>MonthlyCharge</th>              <td>    0.0228</td> <td>    0.003</td> <td>    7.440</td> <td> 0.000</td> <td>    0.017</td> <td>    0.029</td>\n",
       "</tr>\n",
       "<tr>\n",
       "  <th>Population</th>                 <td>-1.606e-06</td> <td>  2.3e-06</td> <td>   -0.699</td> <td> 0.484</td> <td> -6.1e-06</td> <td> 2.89e-06</td>\n",
       "</tr>\n",
       "<tr>\n",
       "  <th>Age</th>                        <td>    0.0039</td> <td>    0.002</td> <td>    1.870</td> <td> 0.062</td> <td>   -0.000</td> <td>    0.008</td>\n",
       "</tr>\n",
       "<tr>\n",
       "  <th>Income</th>                     <td> 7.691e-07</td> <td> 1.16e-06</td> <td>    0.665</td> <td> 0.506</td> <td> -1.5e-06</td> <td> 3.04e-06</td>\n",
       "</tr>\n",
       "<tr>\n",
       "  <th>Outage_sec_perweek</th>         <td>   -0.0007</td> <td>    0.011</td> <td>   -0.061</td> <td> 0.951</td> <td>   -0.022</td> <td>    0.021</td>\n",
       "</tr>\n",
       "<tr>\n",
       "  <th>Yearly_equip_failure</th>       <td>   -0.0374</td> <td>    0.051</td> <td>   -0.730</td> <td> 0.465</td> <td>   -0.138</td> <td>    0.063</td>\n",
       "</tr>\n",
       "<tr>\n",
       "  <th>Techie</th>                     <td>    0.7352</td> <td>    0.084</td> <td>    8.771</td> <td> 0.000</td> <td>    0.571</td> <td>    0.900</td>\n",
       "</tr>\n",
       "<tr>\n",
       "  <th>Port_modem</th>                 <td>    0.1135</td> <td>    0.065</td> <td>    1.756</td> <td> 0.079</td> <td>   -0.013</td> <td>    0.240</td>\n",
       "</tr>\n",
       "<tr>\n",
       "  <th>Tablet</th>                     <td>   -0.0490</td> <td>    0.070</td> <td>   -0.698</td> <td> 0.485</td> <td>   -0.187</td> <td>    0.089</td>\n",
       "</tr>\n",
       "<tr>\n",
       "  <th>Phone</th>                      <td>   -0.2681</td> <td>    0.109</td> <td>   -2.464</td> <td> 0.014</td> <td>   -0.481</td> <td>   -0.055</td>\n",
       "</tr>\n",
       "<tr>\n",
       "  <th>Multiple</th>                   <td>    0.3752</td> <td>    0.111</td> <td>    3.381</td> <td> 0.001</td> <td>    0.158</td> <td>    0.593</td>\n",
       "</tr>\n",
       "<tr>\n",
       "  <th>OnlineSecurity</th>             <td>   -0.2455</td> <td>    0.074</td> <td>   -3.335</td> <td> 0.001</td> <td>   -0.390</td> <td>   -0.101</td>\n",
       "</tr>\n",
       "<tr>\n",
       "  <th>OnlineBackup</th>               <td>    0.0295</td> <td>    0.089</td> <td>    0.332</td> <td> 0.740</td> <td>   -0.145</td> <td>    0.204</td>\n",
       "</tr>\n",
       "<tr>\n",
       "  <th>StreamingTV</th>                <td>    1.0013</td> <td>    0.141</td> <td>    7.099</td> <td> 0.000</td> <td>    0.725</td> <td>    1.278</td>\n",
       "</tr>\n",
       "<tr>\n",
       "  <th>StreamingMovies</th>            <td>    1.2221</td> <td>    0.161</td> <td>    7.611</td> <td> 0.000</td> <td>    0.907</td> <td>    1.537</td>\n",
       "</tr>\n",
       "<tr>\n",
       "  <th>Tenure</th>                     <td>   -0.1182</td> <td>    0.033</td> <td>   -3.545</td> <td> 0.000</td> <td>   -0.183</td> <td>   -0.053</td>\n",
       "</tr>\n",
       "<tr>\n",
       "  <th>InternetService_DSL</th>        <td>    0.4758</td> <td>    0.177</td> <td>    2.683</td> <td> 0.007</td> <td>    0.128</td> <td>    0.823</td>\n",
       "</tr>\n",
       "<tr>\n",
       "  <th>InternetService_FiberOptic</th> <td>   -0.7187</td> <td>    0.132</td> <td>   -5.425</td> <td> 0.000</td> <td>   -0.978</td> <td>   -0.459</td>\n",
       "</tr>\n",
       "</table>"
      ],
      "text/latex": [
       "\\begin{center}\n",
       "\\begin{tabular}{lclc}\n",
       "\\toprule\n",
       "\\textbf{Dep. Variable:}              &      Churn       & \\textbf{  No. Observations:  } &     9991    \\\\\n",
       "\\textbf{Model:}                      &      Logit       & \\textbf{  Df Residuals:      } &     9971    \\\\\n",
       "\\textbf{Method:}                     &       MLE        & \\textbf{  Df Model:          } &       19    \\\\\n",
       "\\textbf{Date:}                       & Mon, 20 Nov 2023 & \\textbf{  Pseudo R-squ.:     } &   0.4745    \\\\\n",
       "\\textbf{Time:}                       &     21:35:31     & \\textbf{  Log-Likelihood:    } &   -3037.0   \\\\\n",
       "\\textbf{converged:}                  &       True       & \\textbf{  LL-Null:           } &   -5779.4   \\\\\n",
       "\\textbf{Covariance Type:}            &    nonrobust     & \\textbf{  LLR p-value:       } &    0.000    \\\\\n",
       "\\bottomrule\n",
       "\\end{tabular}\n",
       "\\begin{tabular}{lcccccc}\n",
       "                                     & \\textbf{coef} & \\textbf{std err} & \\textbf{z} & \\textbf{P$> |$z$|$} & \\textbf{[0.025} & \\textbf{0.975]}  \\\\\n",
       "\\midrule\n",
       "\\textbf{Intercept}                   &      -4.6518  &        0.305     &   -15.269  &         0.000        &       -5.249    &       -4.055     \\\\\n",
       "\\textbf{Bandwidth\\_GB\\_Year}         &       0.0004  &        0.000     &     1.023  &         0.306        &       -0.000    &        0.001     \\\\\n",
       "\\textbf{MonthlyCharge}               &       0.0228  &        0.003     &     7.440  &         0.000        &        0.017    &        0.029     \\\\\n",
       "\\textbf{Population}                  &   -1.606e-06  &      2.3e-06     &    -0.699  &         0.484        &     -6.1e-06    &     2.89e-06     \\\\\n",
       "\\textbf{Age}                         &       0.0039  &        0.002     &     1.870  &         0.062        &       -0.000    &        0.008     \\\\\n",
       "\\textbf{Income}                      &    7.691e-07  &     1.16e-06     &     0.665  &         0.506        &     -1.5e-06    &     3.04e-06     \\\\\n",
       "\\textbf{Outage\\_sec\\_perweek}        &      -0.0007  &        0.011     &    -0.061  &         0.951        &       -0.022    &        0.021     \\\\\n",
       "\\textbf{Yearly\\_equip\\_failure}      &      -0.0374  &        0.051     &    -0.730  &         0.465        &       -0.138    &        0.063     \\\\\n",
       "\\textbf{Techie}                      &       0.7352  &        0.084     &     8.771  &         0.000        &        0.571    &        0.900     \\\\\n",
       "\\textbf{Port\\_modem}                 &       0.1135  &        0.065     &     1.756  &         0.079        &       -0.013    &        0.240     \\\\\n",
       "\\textbf{Tablet}                      &      -0.0490  &        0.070     &    -0.698  &         0.485        &       -0.187    &        0.089     \\\\\n",
       "\\textbf{Phone}                       &      -0.2681  &        0.109     &    -2.464  &         0.014        &       -0.481    &       -0.055     \\\\\n",
       "\\textbf{Multiple}                    &       0.3752  &        0.111     &     3.381  &         0.001        &        0.158    &        0.593     \\\\\n",
       "\\textbf{OnlineSecurity}              &      -0.2455  &        0.074     &    -3.335  &         0.001        &       -0.390    &       -0.101     \\\\\n",
       "\\textbf{OnlineBackup}                &       0.0295  &        0.089     &     0.332  &         0.740        &       -0.145    &        0.204     \\\\\n",
       "\\textbf{StreamingTV}                 &       1.0013  &        0.141     &     7.099  &         0.000        &        0.725    &        1.278     \\\\\n",
       "\\textbf{StreamingMovies}             &       1.2221  &        0.161     &     7.611  &         0.000        &        0.907    &        1.537     \\\\\n",
       "\\textbf{Tenure}                      &      -0.1182  &        0.033     &    -3.545  &         0.000        &       -0.183    &       -0.053     \\\\\n",
       "\\textbf{InternetService\\_DSL}        &       0.4758  &        0.177     &     2.683  &         0.007        &        0.128    &        0.823     \\\\\n",
       "\\textbf{InternetService\\_FiberOptic} &      -0.7187  &        0.132     &    -5.425  &         0.000        &       -0.978    &       -0.459     \\\\\n",
       "\\bottomrule\n",
       "\\end{tabular}\n",
       "%\\caption{Logit Regression Results}\n",
       "\\end{center}"
      ],
      "text/plain": [
       "<class 'statsmodels.iolib.summary.Summary'>\n",
       "\"\"\"\n",
       "                           Logit Regression Results                           \n",
       "==============================================================================\n",
       "Dep. Variable:                  Churn   No. Observations:                 9991\n",
       "Model:                          Logit   Df Residuals:                     9971\n",
       "Method:                           MLE   Df Model:                           19\n",
       "Date:                Mon, 20 Nov 2023   Pseudo R-squ.:                  0.4745\n",
       "Time:                        21:35:31   Log-Likelihood:                -3037.0\n",
       "converged:                       True   LL-Null:                       -5779.4\n",
       "Covariance Type:            nonrobust   LLR p-value:                     0.000\n",
       "==============================================================================================\n",
       "                                 coef    std err          z      P>|z|      [0.025      0.975]\n",
       "----------------------------------------------------------------------------------------------\n",
       "Intercept                     -4.6518      0.305    -15.269      0.000      -5.249      -4.055\n",
       "Bandwidth_GB_Year              0.0004      0.000      1.023      0.306      -0.000       0.001\n",
       "MonthlyCharge                  0.0228      0.003      7.440      0.000       0.017       0.029\n",
       "Population                 -1.606e-06    2.3e-06     -0.699      0.484    -6.1e-06    2.89e-06\n",
       "Age                            0.0039      0.002      1.870      0.062      -0.000       0.008\n",
       "Income                      7.691e-07   1.16e-06      0.665      0.506    -1.5e-06    3.04e-06\n",
       "Outage_sec_perweek            -0.0007      0.011     -0.061      0.951      -0.022       0.021\n",
       "Yearly_equip_failure          -0.0374      0.051     -0.730      0.465      -0.138       0.063\n",
       "Techie                         0.7352      0.084      8.771      0.000       0.571       0.900\n",
       "Port_modem                     0.1135      0.065      1.756      0.079      -0.013       0.240\n",
       "Tablet                        -0.0490      0.070     -0.698      0.485      -0.187       0.089\n",
       "Phone                         -0.2681      0.109     -2.464      0.014      -0.481      -0.055\n",
       "Multiple                       0.3752      0.111      3.381      0.001       0.158       0.593\n",
       "OnlineSecurity                -0.2455      0.074     -3.335      0.001      -0.390      -0.101\n",
       "OnlineBackup                   0.0295      0.089      0.332      0.740      -0.145       0.204\n",
       "StreamingTV                    1.0013      0.141      7.099      0.000       0.725       1.278\n",
       "StreamingMovies                1.2221      0.161      7.611      0.000       0.907       1.537\n",
       "Tenure                        -0.1182      0.033     -3.545      0.000      -0.183      -0.053\n",
       "InternetService_DSL            0.4758      0.177      2.683      0.007       0.128       0.823\n",
       "InternetService_FiberOptic    -0.7187      0.132     -5.425      0.000      -0.978      -0.459\n",
       "==============================================================================================\n",
       "\"\"\""
      ]
     },
     "execution_count": 6,
     "metadata": {},
     "output_type": "execute_result"
    }
   ],
   "source": [
    "model_initial.summary()"
   ]
  },
  {
   "cell_type": "code",
   "execution_count": null,
   "id": "c18bf6c1-635c-43be-9396-f46b56211f4a",
   "metadata": {},
   "outputs": [],
   "source": []
  },
  {
   "cell_type": "markdown",
   "id": "38dcff46-e0b5-4a69-97e1-8e5733e39209",
   "metadata": {},
   "source": [
    "# REDUCED MODEL"
   ]
  },
  {
   "cell_type": "markdown",
   "id": "87b76cd4-8899-4e2d-8688-adc94a83a20e",
   "metadata": {},
   "source": [
    "### VIF - reduce multicollinearity"
   ]
  },
  {
   "cell_type": "code",
   "execution_count": 7,
   "id": "4038cb0b-526b-4be7-9084-9f2fa6fc099e",
   "metadata": {},
   "outputs": [],
   "source": [
    "#use Variance Inflation Factor (VIF) to detect multicollinearity\n",
    "\n",
    "from statsmodels.stats.outliers_influence import variance_inflation_factor\n",
    "from statsmodels.tools.tools import add_constant"
   ]
  },
  {
   "cell_type": "code",
   "execution_count": 8,
   "id": "239a0ac1-31aa-4ce1-916f-faf4c8658867",
   "metadata": {},
   "outputs": [],
   "source": [
    "def compute_vif(considered_features):\n",
    "    X = df[considered_features]\n",
    "    X['intercept'] = 1\n",
    "    vif = pd.DataFrame()\n",
    "    vif['Variable'] = X.columns\n",
    "    vif['VIF'] = [variance_inflation_factor(X.values, i) for i in range (X.shape[1])]\n",
    "    vif = vif[vif['Variable'] != 'intercept']\n",
    "    return vif"
   ]
  },
  {
   "cell_type": "code",
   "execution_count": 9,
   "id": "303829e3-7d10-474f-928b-58131d0dc989",
   "metadata": {},
   "outputs": [
    {
     "data": {
      "text/html": [
       "<div>\n",
       "<style scoped>\n",
       "    .dataframe tbody tr th:only-of-type {\n",
       "        vertical-align: middle;\n",
       "    }\n",
       "\n",
       "    .dataframe tbody tr th {\n",
       "        vertical-align: top;\n",
       "    }\n",
       "\n",
       "    .dataframe thead th {\n",
       "        text-align: right;\n",
       "    }\n",
       "</style>\n",
       "<table border=\"1\" class=\"dataframe\">\n",
       "  <thead>\n",
       "    <tr style=\"text-align: right;\">\n",
       "      <th></th>\n",
       "      <th>Variable</th>\n",
       "      <th>VIF</th>\n",
       "    </tr>\n",
       "  </thead>\n",
       "  <tbody>\n",
       "    <tr>\n",
       "      <th>3</th>\n",
       "      <td>Bandwidth_GB_Year</td>\n",
       "      <td>745.288275</td>\n",
       "    </tr>\n",
       "    <tr>\n",
       "      <th>15</th>\n",
       "      <td>Tenure</td>\n",
       "      <td>732.766794</td>\n",
       "    </tr>\n",
       "    <tr>\n",
       "      <th>16</th>\n",
       "      <td>MonthlyCharge</td>\n",
       "      <td>15.226375</td>\n",
       "    </tr>\n",
       "    <tr>\n",
       "      <th>17</th>\n",
       "      <td>InternetService_DSL</td>\n",
       "      <td>6.814354</td>\n",
       "    </tr>\n",
       "    <tr>\n",
       "      <th>14</th>\n",
       "      <td>StreamingMovies</td>\n",
       "      <td>5.582549</td>\n",
       "    </tr>\n",
       "    <tr>\n",
       "      <th>13</th>\n",
       "      <td>StreamingTV</td>\n",
       "      <td>4.245786</td>\n",
       "    </tr>\n",
       "    <tr>\n",
       "      <th>18</th>\n",
       "      <td>InternetService_FiberOptic</td>\n",
       "      <td>3.877516</td>\n",
       "    </tr>\n",
       "    <tr>\n",
       "      <th>10</th>\n",
       "      <td>Multiple</td>\n",
       "      <td>2.784368</td>\n",
       "    </tr>\n",
       "    <tr>\n",
       "      <th>12</th>\n",
       "      <td>OnlineBackup</td>\n",
       "      <td>1.852535</td>\n",
       "    </tr>\n",
       "    <tr>\n",
       "      <th>1</th>\n",
       "      <td>Age</td>\n",
       "      <td>1.756425</td>\n",
       "    </tr>\n",
       "    <tr>\n",
       "      <th>11</th>\n",
       "      <td>OnlineSecurity</td>\n",
       "      <td>1.187053</td>\n",
       "    </tr>\n",
       "    <tr>\n",
       "      <th>8</th>\n",
       "      <td>Tablet</td>\n",
       "      <td>1.002320</td>\n",
       "    </tr>\n",
       "    <tr>\n",
       "      <th>9</th>\n",
       "      <td>Phone</td>\n",
       "      <td>1.002252</td>\n",
       "    </tr>\n",
       "    <tr>\n",
       "      <th>6</th>\n",
       "      <td>Techie</td>\n",
       "      <td>1.001907</td>\n",
       "    </tr>\n",
       "    <tr>\n",
       "      <th>4</th>\n",
       "      <td>Outage_sec_perweek</td>\n",
       "      <td>1.001285</td>\n",
       "    </tr>\n",
       "    <tr>\n",
       "      <th>2</th>\n",
       "      <td>Income</td>\n",
       "      <td>1.001277</td>\n",
       "    </tr>\n",
       "    <tr>\n",
       "      <th>0</th>\n",
       "      <td>Population</td>\n",
       "      <td>1.000934</td>\n",
       "    </tr>\n",
       "    <tr>\n",
       "      <th>5</th>\n",
       "      <td>Yearly_equip_failure</td>\n",
       "      <td>1.000912</td>\n",
       "    </tr>\n",
       "    <tr>\n",
       "      <th>7</th>\n",
       "      <td>Port_modem</td>\n",
       "      <td>1.000865</td>\n",
       "    </tr>\n",
       "  </tbody>\n",
       "</table>\n",
       "</div>"
      ],
      "text/plain": [
       "                      Variable         VIF\n",
       "3            Bandwidth_GB_Year  745.288275\n",
       "15                      Tenure  732.766794\n",
       "16               MonthlyCharge   15.226375\n",
       "17         InternetService_DSL    6.814354\n",
       "14             StreamingMovies    5.582549\n",
       "13                 StreamingTV    4.245786\n",
       "18  InternetService_FiberOptic    3.877516\n",
       "10                    Multiple    2.784368\n",
       "12                OnlineBackup    1.852535\n",
       "1                          Age    1.756425\n",
       "11              OnlineSecurity    1.187053\n",
       "8                       Tablet    1.002320\n",
       "9                        Phone    1.002252\n",
       "6                       Techie    1.001907\n",
       "4           Outage_sec_perweek    1.001285\n",
       "2                       Income    1.001277\n",
       "0                   Population    1.000934\n",
       "5         Yearly_equip_failure    1.000912\n",
       "7                   Port_modem    1.000865"
      ]
     },
     "execution_count": 9,
     "metadata": {},
     "output_type": "execute_result"
    }
   ],
   "source": [
    "considered_features = ['Population',\n",
    "                       'Age', \n",
    "                       'Income',\n",
    "                       'Bandwidth_GB_Year',\n",
    "                       'Outage_sec_perweek',\n",
    "                       'Yearly_equip_failure',\n",
    "                       'Techie',\n",
    "                       'Port_modem',\n",
    "                       'Tablet',\n",
    "                       'Phone',\n",
    "                       'Multiple',\n",
    "                       'OnlineSecurity',\n",
    "                       'OnlineBackup',\n",
    "                       'StreamingTV',\n",
    "                       'StreamingMovies',\n",
    "                       'Tenure',\n",
    "                       'MonthlyCharge',\n",
    "                       'InternetService_DSL',\n",
    "                       'InternetService_FiberOptic']\n",
    "\n",
    "compute_vif(considered_features).sort_values('VIF', ascending = False)"
   ]
  },
  {
   "cell_type": "code",
   "execution_count": 10,
   "id": "399d74e4-0786-4a2e-b85a-3780ec9e66ac",
   "metadata": {},
   "outputs": [
    {
     "name": "stderr",
     "output_type": "stream",
     "text": [
      "C:\\Users\\kaili\\AppData\\Local\\Temp\\ipykernel_18588\\3653474630.py:3: SettingWithCopyWarning: \n",
      "A value is trying to be set on a copy of a slice from a DataFrame.\n",
      "Try using .loc[row_indexer,col_indexer] = value instead\n",
      "\n",
      "See the caveats in the documentation: https://pandas.pydata.org/pandas-docs/stable/user_guide/indexing.html#returning-a-view-versus-a-copy\n",
      "  X['intercept'] = 1\n"
     ]
    },
    {
     "data": {
      "text/html": [
       "<div>\n",
       "<style scoped>\n",
       "    .dataframe tbody tr th:only-of-type {\n",
       "        vertical-align: middle;\n",
       "    }\n",
       "\n",
       "    .dataframe tbody tr th {\n",
       "        vertical-align: top;\n",
       "    }\n",
       "\n",
       "    .dataframe thead th {\n",
       "        text-align: right;\n",
       "    }\n",
       "</style>\n",
       "<table border=\"1\" class=\"dataframe\">\n",
       "  <thead>\n",
       "    <tr style=\"text-align: right;\">\n",
       "      <th></th>\n",
       "      <th>Variable</th>\n",
       "      <th>VIF</th>\n",
       "    </tr>\n",
       "  </thead>\n",
       "  <tbody>\n",
       "    <tr>\n",
       "      <th>15</th>\n",
       "      <td>MonthlyCharge</td>\n",
       "      <td>12.135057</td>\n",
       "    </tr>\n",
       "    <tr>\n",
       "      <th>13</th>\n",
       "      <td>StreamingMovies</td>\n",
       "      <td>5.516394</td>\n",
       "    </tr>\n",
       "    <tr>\n",
       "      <th>12</th>\n",
       "      <td>StreamingTV</td>\n",
       "      <td>3.929656</td>\n",
       "    </tr>\n",
       "    <tr>\n",
       "      <th>17</th>\n",
       "      <td>InternetService_FiberOptic</td>\n",
       "      <td>3.428829</td>\n",
       "    </tr>\n",
       "    <tr>\n",
       "      <th>9</th>\n",
       "      <td>Multiple</td>\n",
       "      <td>2.729979</td>\n",
       "    </tr>\n",
       "    <tr>\n",
       "      <th>16</th>\n",
       "      <td>InternetService_DSL</td>\n",
       "      <td>1.965147</td>\n",
       "    </tr>\n",
       "    <tr>\n",
       "      <th>11</th>\n",
       "      <td>OnlineBackup</td>\n",
       "      <td>1.837034</td>\n",
       "    </tr>\n",
       "    <tr>\n",
       "      <th>10</th>\n",
       "      <td>OnlineSecurity</td>\n",
       "      <td>1.015134</td>\n",
       "    </tr>\n",
       "    <tr>\n",
       "      <th>7</th>\n",
       "      <td>Tablet</td>\n",
       "      <td>1.002314</td>\n",
       "    </tr>\n",
       "    <tr>\n",
       "      <th>8</th>\n",
       "      <td>Phone</td>\n",
       "      <td>1.002201</td>\n",
       "    </tr>\n",
       "    <tr>\n",
       "      <th>5</th>\n",
       "      <td>Techie</td>\n",
       "      <td>1.001875</td>\n",
       "    </tr>\n",
       "    <tr>\n",
       "      <th>14</th>\n",
       "      <td>Tenure</td>\n",
       "      <td>1.001705</td>\n",
       "    </tr>\n",
       "    <tr>\n",
       "      <th>1</th>\n",
       "      <td>Age</td>\n",
       "      <td>1.001560</td>\n",
       "    </tr>\n",
       "    <tr>\n",
       "      <th>2</th>\n",
       "      <td>Income</td>\n",
       "      <td>1.001277</td>\n",
       "    </tr>\n",
       "    <tr>\n",
       "      <th>3</th>\n",
       "      <td>Outage_sec_perweek</td>\n",
       "      <td>1.001091</td>\n",
       "    </tr>\n",
       "    <tr>\n",
       "      <th>4</th>\n",
       "      <td>Yearly_equip_failure</td>\n",
       "      <td>1.000901</td>\n",
       "    </tr>\n",
       "    <tr>\n",
       "      <th>0</th>\n",
       "      <td>Population</td>\n",
       "      <td>1.000885</td>\n",
       "    </tr>\n",
       "    <tr>\n",
       "      <th>6</th>\n",
       "      <td>Port_modem</td>\n",
       "      <td>1.000732</td>\n",
       "    </tr>\n",
       "  </tbody>\n",
       "</table>\n",
       "</div>"
      ],
      "text/plain": [
       "                      Variable        VIF\n",
       "15               MonthlyCharge  12.135057\n",
       "13             StreamingMovies   5.516394\n",
       "12                 StreamingTV   3.929656\n",
       "17  InternetService_FiberOptic   3.428829\n",
       "9                     Multiple   2.729979\n",
       "16         InternetService_DSL   1.965147\n",
       "11                OnlineBackup   1.837034\n",
       "10              OnlineSecurity   1.015134\n",
       "7                       Tablet   1.002314\n",
       "8                        Phone   1.002201\n",
       "5                       Techie   1.001875\n",
       "14                      Tenure   1.001705\n",
       "1                          Age   1.001560\n",
       "2                       Income   1.001277\n",
       "3           Outage_sec_perweek   1.001091\n",
       "4         Yearly_equip_failure   1.000901\n",
       "0                   Population   1.000885\n",
       "6                   Port_modem   1.000732"
      ]
     },
     "execution_count": 10,
     "metadata": {},
     "output_type": "execute_result"
    }
   ],
   "source": [
    "# Bandwidth_GB_Year has the highest VIF of 745. Remove from model. then repeat for highest vif.\n",
    "\n",
    "considered_features.remove('Bandwidth_GB_Year')\n",
    "compute_vif(considered_features).sort_values('VIF', ascending = False)"
   ]
  },
  {
   "cell_type": "code",
   "execution_count": 11,
   "id": "e8b91d62-d865-4451-8ba9-b62cf06a6370",
   "metadata": {},
   "outputs": [
    {
     "name": "stderr",
     "output_type": "stream",
     "text": [
      "C:\\Users\\kaili\\AppData\\Local\\Temp\\ipykernel_18588\\3653474630.py:3: SettingWithCopyWarning: \n",
      "A value is trying to be set on a copy of a slice from a DataFrame.\n",
      "Try using .loc[row_indexer,col_indexer] = value instead\n",
      "\n",
      "See the caveats in the documentation: https://pandas.pydata.org/pandas-docs/stable/user_guide/indexing.html#returning-a-view-versus-a-copy\n",
      "  X['intercept'] = 1\n"
     ]
    },
    {
     "data": {
      "text/html": [
       "<div>\n",
       "<style scoped>\n",
       "    .dataframe tbody tr th:only-of-type {\n",
       "        vertical-align: middle;\n",
       "    }\n",
       "\n",
       "    .dataframe tbody tr th {\n",
       "        vertical-align: top;\n",
       "    }\n",
       "\n",
       "    .dataframe thead th {\n",
       "        text-align: right;\n",
       "    }\n",
       "</style>\n",
       "<table border=\"1\" class=\"dataframe\">\n",
       "  <thead>\n",
       "    <tr style=\"text-align: right;\">\n",
       "      <th></th>\n",
       "      <th>Variable</th>\n",
       "      <th>VIF</th>\n",
       "    </tr>\n",
       "  </thead>\n",
       "  <tbody>\n",
       "    <tr>\n",
       "      <th>15</th>\n",
       "      <td>InternetService_DSL</td>\n",
       "      <td>1.718585</td>\n",
       "    </tr>\n",
       "    <tr>\n",
       "      <th>16</th>\n",
       "      <td>InternetService_FiberOptic</td>\n",
       "      <td>1.718487</td>\n",
       "    </tr>\n",
       "    <tr>\n",
       "      <th>7</th>\n",
       "      <td>Tablet</td>\n",
       "      <td>1.002088</td>\n",
       "    </tr>\n",
       "    <tr>\n",
       "      <th>10</th>\n",
       "      <td>OnlineSecurity</td>\n",
       "      <td>1.001523</td>\n",
       "    </tr>\n",
       "    <tr>\n",
       "      <th>14</th>\n",
       "      <td>Tenure</td>\n",
       "      <td>1.001407</td>\n",
       "    </tr>\n",
       "    <tr>\n",
       "      <th>9</th>\n",
       "      <td>Multiple</td>\n",
       "      <td>1.001309</td>\n",
       "    </tr>\n",
       "    <tr>\n",
       "      <th>8</th>\n",
       "      <td>Phone</td>\n",
       "      <td>1.001289</td>\n",
       "    </tr>\n",
       "    <tr>\n",
       "      <th>13</th>\n",
       "      <td>StreamingMovies</td>\n",
       "      <td>1.001228</td>\n",
       "    </tr>\n",
       "    <tr>\n",
       "      <th>3</th>\n",
       "      <td>Outage_sec_perweek</td>\n",
       "      <td>1.001088</td>\n",
       "    </tr>\n",
       "    <tr>\n",
       "      <th>1</th>\n",
       "      <td>Age</td>\n",
       "      <td>1.001076</td>\n",
       "    </tr>\n",
       "    <tr>\n",
       "      <th>5</th>\n",
       "      <td>Techie</td>\n",
       "      <td>1.001058</td>\n",
       "    </tr>\n",
       "    <tr>\n",
       "      <th>2</th>\n",
       "      <td>Income</td>\n",
       "      <td>1.000925</td>\n",
       "    </tr>\n",
       "    <tr>\n",
       "      <th>11</th>\n",
       "      <td>OnlineBackup</td>\n",
       "      <td>1.000905</td>\n",
       "    </tr>\n",
       "    <tr>\n",
       "      <th>12</th>\n",
       "      <td>StreamingTV</td>\n",
       "      <td>1.000900</td>\n",
       "    </tr>\n",
       "    <tr>\n",
       "      <th>0</th>\n",
       "      <td>Population</td>\n",
       "      <td>1.000853</td>\n",
       "    </tr>\n",
       "    <tr>\n",
       "      <th>4</th>\n",
       "      <td>Yearly_equip_failure</td>\n",
       "      <td>1.000841</td>\n",
       "    </tr>\n",
       "    <tr>\n",
       "      <th>6</th>\n",
       "      <td>Port_modem</td>\n",
       "      <td>1.000685</td>\n",
       "    </tr>\n",
       "  </tbody>\n",
       "</table>\n",
       "</div>"
      ],
      "text/plain": [
       "                      Variable       VIF\n",
       "15         InternetService_DSL  1.718585\n",
       "16  InternetService_FiberOptic  1.718487\n",
       "7                       Tablet  1.002088\n",
       "10              OnlineSecurity  1.001523\n",
       "14                      Tenure  1.001407\n",
       "9                     Multiple  1.001309\n",
       "8                        Phone  1.001289\n",
       "13             StreamingMovies  1.001228\n",
       "3           Outage_sec_perweek  1.001088\n",
       "1                          Age  1.001076\n",
       "5                       Techie  1.001058\n",
       "2                       Income  1.000925\n",
       "11                OnlineBackup  1.000905\n",
       "12                 StreamingTV  1.000900\n",
       "0                   Population  1.000853\n",
       "4         Yearly_equip_failure  1.000841\n",
       "6                   Port_modem  1.000685"
      ]
     },
     "execution_count": 11,
     "metadata": {},
     "output_type": "execute_result"
    }
   ],
   "source": [
    "# Now MonthlyCharge has highest VIF of 12. Remove from model. then repeat for highest vif.\n",
    "\n",
    "considered_features.remove('MonthlyCharge')\n",
    "compute_vif(considered_features).sort_values('VIF', ascending = False)"
   ]
  },
  {
   "cell_type": "markdown",
   "id": "44768ed4-fd1f-4336-9d82-1248b0bd1daf",
   "metadata": {},
   "source": [
    "- now multicollinearity has been reduced since all values have VIF < 10\n",
    "- remove from model and then check p-values on coefficients\n",
    "\n",
    "## Reduced Model 1"
   ]
  },
  {
   "cell_type": "code",
   "execution_count": 13,
   "id": "d05c9e49-b155-4975-875d-0d78cca973fa",
   "metadata": {},
   "outputs": [
    {
     "name": "stdout",
     "output_type": "stream",
     "text": [
      "Optimization terminated successfully.\n",
      "         Current function value: 0.307986\n",
      "         Iterations 8\n"
     ]
    }
   ],
   "source": [
    "model_reduced1 = logit(\"Churn ~ Population + Age + Income + Outage_sec_perweek + Yearly_equip_failure + Techie + Port_modem + Tablet + Phone + Multiple + OnlineSecurity + OnlineBackup + StreamingTV + StreamingMovies + Tenure + InternetService_DSL + InternetService_FiberOptic\", \n",
    "                      data=df).fit()"
   ]
  },
  {
   "cell_type": "code",
   "execution_count": 14,
   "id": "086f5c81-0fbd-42a1-a723-e1b3d6e5853d",
   "metadata": {},
   "outputs": [
    {
     "data": {
      "text/html": [
       "<table class=\"simpletable\">\n",
       "<caption>Logit Regression Results</caption>\n",
       "<tr>\n",
       "  <th>Dep. Variable:</th>         <td>Churn</td>      <th>  No. Observations:  </th>  <td>  9991</td> \n",
       "</tr>\n",
       "<tr>\n",
       "  <th>Model:</th>                 <td>Logit</td>      <th>  Df Residuals:      </th>  <td>  9973</td> \n",
       "</tr>\n",
       "<tr>\n",
       "  <th>Method:</th>                 <td>MLE</td>       <th>  Df Model:          </th>  <td>    17</td> \n",
       "</tr>\n",
       "<tr>\n",
       "  <th>Date:</th>            <td>Mon, 20 Nov 2023</td> <th>  Pseudo R-squ.:     </th>  <td>0.4676</td> \n",
       "</tr>\n",
       "<tr>\n",
       "  <th>Time:</th>                <td>21:55:06</td>     <th>  Log-Likelihood:    </th> <td> -3077.1</td>\n",
       "</tr>\n",
       "<tr>\n",
       "  <th>converged:</th>             <td>True</td>       <th>  LL-Null:           </th> <td> -5779.4</td>\n",
       "</tr>\n",
       "<tr>\n",
       "  <th>Covariance Type:</th>     <td>nonrobust</td>    <th>  LLR p-value:       </th>  <td> 0.000</td> \n",
       "</tr>\n",
       "</table>\n",
       "<table class=\"simpletable\">\n",
       "<tr>\n",
       "               <td></td>                 <th>coef</th>     <th>std err</th>      <th>z</th>      <th>P>|z|</th>  <th>[0.025</th>    <th>0.975]</th>  \n",
       "</tr>\n",
       "<tr>\n",
       "  <th>Intercept</th>                  <td>   -2.7865</td> <td>    0.214</td> <td>  -13.024</td> <td> 0.000</td> <td>   -3.206</td> <td>   -2.367</td>\n",
       "</tr>\n",
       "<tr>\n",
       "  <th>Population</th>                 <td>-1.824e-06</td> <td> 2.28e-06</td> <td>   -0.800</td> <td> 0.424</td> <td>-6.29e-06</td> <td> 2.65e-06</td>\n",
       "</tr>\n",
       "<tr>\n",
       "  <th>Age</th>                        <td>    0.0028</td> <td>    0.002</td> <td>    1.809</td> <td> 0.070</td> <td>   -0.000</td> <td>    0.006</td>\n",
       "</tr>\n",
       "<tr>\n",
       "  <th>Income</th>                     <td> 1.071e-06</td> <td> 1.16e-06</td> <td>    0.928</td> <td> 0.354</td> <td>-1.19e-06</td> <td> 3.34e-06</td>\n",
       "</tr>\n",
       "<tr>\n",
       "  <th>Outage_sec_perweek</th>         <td>   -0.0020</td> <td>    0.011</td> <td>   -0.189</td> <td> 0.850</td> <td>   -0.023</td> <td>    0.019</td>\n",
       "</tr>\n",
       "<tr>\n",
       "  <th>Yearly_equip_failure</th>       <td>   -0.0380</td> <td>    0.051</td> <td>   -0.744</td> <td> 0.457</td> <td>   -0.138</td> <td>    0.062</td>\n",
       "</tr>\n",
       "<tr>\n",
       "  <th>Techie</th>                     <td>    0.7586</td> <td>    0.084</td> <td>    9.036</td> <td> 0.000</td> <td>    0.594</td> <td>    0.923</td>\n",
       "</tr>\n",
       "<tr>\n",
       "  <th>Port_modem</th>                 <td>    0.1069</td> <td>    0.064</td> <td>    1.663</td> <td> 0.096</td> <td>   -0.019</td> <td>    0.233</td>\n",
       "</tr>\n",
       "<tr>\n",
       "  <th>Tablet</th>                     <td>   -0.0481</td> <td>    0.070</td> <td>   -0.689</td> <td> 0.491</td> <td>   -0.185</td> <td>    0.089</td>\n",
       "</tr>\n",
       "<tr>\n",
       "  <th>Phone</th>                      <td>   -0.2938</td> <td>    0.109</td> <td>   -2.704</td> <td> 0.007</td> <td>   -0.507</td> <td>   -0.081</td>\n",
       "</tr>\n",
       "<tr>\n",
       "  <th>Multiple</th>                   <td>    1.1391</td> <td>    0.067</td> <td>   17.045</td> <td> 0.000</td> <td>    1.008</td> <td>    1.270</td>\n",
       "</tr>\n",
       "<tr>\n",
       "  <th>OnlineSecurity</th>             <td>   -0.1399</td> <td>    0.067</td> <td>   -2.083</td> <td> 0.037</td> <td>   -0.272</td> <td>   -0.008</td>\n",
       "</tr>\n",
       "<tr>\n",
       "  <th>OnlineBackup</th>               <td>    0.5729</td> <td>    0.065</td> <td>    8.794</td> <td> 0.000</td> <td>    0.445</td> <td>    0.701</td>\n",
       "</tr>\n",
       "<tr>\n",
       "  <th>StreamingTV</th>                <td>    2.0954</td> <td>    0.074</td> <td>   28.440</td> <td> 0.000</td> <td>    1.951</td> <td>    2.240</td>\n",
       "</tr>\n",
       "<tr>\n",
       "  <th>StreamingMovies</th>            <td>    2.5273</td> <td>    0.076</td> <td>   33.134</td> <td> 0.000</td> <td>    2.378</td> <td>    2.677</td>\n",
       "</tr>\n",
       "<tr>\n",
       "  <th>Tenure</th>                     <td>   -0.0808</td> <td>    0.002</td> <td>  -42.340</td> <td> 0.000</td> <td>   -0.085</td> <td>   -0.077</td>\n",
       "</tr>\n",
       "<tr>\n",
       "  <th>InternetService_DSL</th>        <td>    0.9334</td> <td>    0.090</td> <td>   10.401</td> <td> 0.000</td> <td>    0.757</td> <td>    1.109</td>\n",
       "</tr>\n",
       "<tr>\n",
       "  <th>InternetService_FiberOptic</th> <td>    0.0168</td> <td>    0.087</td> <td>    0.193</td> <td> 0.847</td> <td>   -0.153</td> <td>    0.187</td>\n",
       "</tr>\n",
       "</table>"
      ],
      "text/latex": [
       "\\begin{center}\n",
       "\\begin{tabular}{lclc}\n",
       "\\toprule\n",
       "\\textbf{Dep. Variable:}              &      Churn       & \\textbf{  No. Observations:  } &     9991    \\\\\n",
       "\\textbf{Model:}                      &      Logit       & \\textbf{  Df Residuals:      } &     9973    \\\\\n",
       "\\textbf{Method:}                     &       MLE        & \\textbf{  Df Model:          } &       17    \\\\\n",
       "\\textbf{Date:}                       & Mon, 20 Nov 2023 & \\textbf{  Pseudo R-squ.:     } &   0.4676    \\\\\n",
       "\\textbf{Time:}                       &     21:55:06     & \\textbf{  Log-Likelihood:    } &   -3077.1   \\\\\n",
       "\\textbf{converged:}                  &       True       & \\textbf{  LL-Null:           } &   -5779.4   \\\\\n",
       "\\textbf{Covariance Type:}            &    nonrobust     & \\textbf{  LLR p-value:       } &    0.000    \\\\\n",
       "\\bottomrule\n",
       "\\end{tabular}\n",
       "\\begin{tabular}{lcccccc}\n",
       "                                     & \\textbf{coef} & \\textbf{std err} & \\textbf{z} & \\textbf{P$> |$z$|$} & \\textbf{[0.025} & \\textbf{0.975]}  \\\\\n",
       "\\midrule\n",
       "\\textbf{Intercept}                   &      -2.7865  &        0.214     &   -13.024  &         0.000        &       -3.206    &       -2.367     \\\\\n",
       "\\textbf{Population}                  &   -1.824e-06  &     2.28e-06     &    -0.800  &         0.424        &    -6.29e-06    &     2.65e-06     \\\\\n",
       "\\textbf{Age}                         &       0.0028  &        0.002     &     1.809  &         0.070        &       -0.000    &        0.006     \\\\\n",
       "\\textbf{Income}                      &    1.071e-06  &     1.16e-06     &     0.928  &         0.354        &    -1.19e-06    &     3.34e-06     \\\\\n",
       "\\textbf{Outage\\_sec\\_perweek}        &      -0.0020  &        0.011     &    -0.189  &         0.850        &       -0.023    &        0.019     \\\\\n",
       "\\textbf{Yearly\\_equip\\_failure}      &      -0.0380  &        0.051     &    -0.744  &         0.457        &       -0.138    &        0.062     \\\\\n",
       "\\textbf{Techie}                      &       0.7586  &        0.084     &     9.036  &         0.000        &        0.594    &        0.923     \\\\\n",
       "\\textbf{Port\\_modem}                 &       0.1069  &        0.064     &     1.663  &         0.096        &       -0.019    &        0.233     \\\\\n",
       "\\textbf{Tablet}                      &      -0.0481  &        0.070     &    -0.689  &         0.491        &       -0.185    &        0.089     \\\\\n",
       "\\textbf{Phone}                       &      -0.2938  &        0.109     &    -2.704  &         0.007        &       -0.507    &       -0.081     \\\\\n",
       "\\textbf{Multiple}                    &       1.1391  &        0.067     &    17.045  &         0.000        &        1.008    &        1.270     \\\\\n",
       "\\textbf{OnlineSecurity}              &      -0.1399  &        0.067     &    -2.083  &         0.037        &       -0.272    &       -0.008     \\\\\n",
       "\\textbf{OnlineBackup}                &       0.5729  &        0.065     &     8.794  &         0.000        &        0.445    &        0.701     \\\\\n",
       "\\textbf{StreamingTV}                 &       2.0954  &        0.074     &    28.440  &         0.000        &        1.951    &        2.240     \\\\\n",
       "\\textbf{StreamingMovies}             &       2.5273  &        0.076     &    33.134  &         0.000        &        2.378    &        2.677     \\\\\n",
       "\\textbf{Tenure}                      &      -0.0808  &        0.002     &   -42.340  &         0.000        &       -0.085    &       -0.077     \\\\\n",
       "\\textbf{InternetService\\_DSL}        &       0.9334  &        0.090     &    10.401  &         0.000        &        0.757    &        1.109     \\\\\n",
       "\\textbf{InternetService\\_FiberOptic} &       0.0168  &        0.087     &     0.193  &         0.847        &       -0.153    &        0.187     \\\\\n",
       "\\bottomrule\n",
       "\\end{tabular}\n",
       "%\\caption{Logit Regression Results}\n",
       "\\end{center}"
      ],
      "text/plain": [
       "<class 'statsmodels.iolib.summary.Summary'>\n",
       "\"\"\"\n",
       "                           Logit Regression Results                           \n",
       "==============================================================================\n",
       "Dep. Variable:                  Churn   No. Observations:                 9991\n",
       "Model:                          Logit   Df Residuals:                     9973\n",
       "Method:                           MLE   Df Model:                           17\n",
       "Date:                Mon, 20 Nov 2023   Pseudo R-squ.:                  0.4676\n",
       "Time:                        21:55:06   Log-Likelihood:                -3077.1\n",
       "converged:                       True   LL-Null:                       -5779.4\n",
       "Covariance Type:            nonrobust   LLR p-value:                     0.000\n",
       "==============================================================================================\n",
       "                                 coef    std err          z      P>|z|      [0.025      0.975]\n",
       "----------------------------------------------------------------------------------------------\n",
       "Intercept                     -2.7865      0.214    -13.024      0.000      -3.206      -2.367\n",
       "Population                 -1.824e-06   2.28e-06     -0.800      0.424   -6.29e-06    2.65e-06\n",
       "Age                            0.0028      0.002      1.809      0.070      -0.000       0.006\n",
       "Income                      1.071e-06   1.16e-06      0.928      0.354   -1.19e-06    3.34e-06\n",
       "Outage_sec_perweek            -0.0020      0.011     -0.189      0.850      -0.023       0.019\n",
       "Yearly_equip_failure          -0.0380      0.051     -0.744      0.457      -0.138       0.062\n",
       "Techie                         0.7586      0.084      9.036      0.000       0.594       0.923\n",
       "Port_modem                     0.1069      0.064      1.663      0.096      -0.019       0.233\n",
       "Tablet                        -0.0481      0.070     -0.689      0.491      -0.185       0.089\n",
       "Phone                         -0.2938      0.109     -2.704      0.007      -0.507      -0.081\n",
       "Multiple                       1.1391      0.067     17.045      0.000       1.008       1.270\n",
       "OnlineSecurity                -0.1399      0.067     -2.083      0.037      -0.272      -0.008\n",
       "OnlineBackup                   0.5729      0.065      8.794      0.000       0.445       0.701\n",
       "StreamingTV                    2.0954      0.074     28.440      0.000       1.951       2.240\n",
       "StreamingMovies                2.5273      0.076     33.134      0.000       2.378       2.677\n",
       "Tenure                        -0.0808      0.002    -42.340      0.000      -0.085      -0.077\n",
       "InternetService_DSL            0.9334      0.090     10.401      0.000       0.757       1.109\n",
       "InternetService_FiberOptic     0.0168      0.087      0.193      0.847      -0.153       0.187\n",
       "==============================================================================================\n",
       "\"\"\""
      ]
     },
     "execution_count": 14,
     "metadata": {},
     "output_type": "execute_result"
    }
   ],
   "source": [
    "model_reduced1.summary()"
   ]
  },
  {
   "cell_type": "code",
   "execution_count": 17,
   "id": "6b0eea5f-4618-4ab1-a9d7-076630a742c5",
   "metadata": {},
   "outputs": [
    {
     "name": "stdout",
     "output_type": "stream",
     "text": [
      "Optimization terminated successfully.\n",
      "         Current function value: 0.307988\n",
      "         Iterations 8\n"
     ]
    },
    {
     "data": {
      "text/html": [
       "<table class=\"simpletable\">\n",
       "<caption>Logit Regression Results</caption>\n",
       "<tr>\n",
       "  <th>Dep. Variable:</th>         <td>Churn</td>      <th>  No. Observations:  </th>  <td>  9991</td> \n",
       "</tr>\n",
       "<tr>\n",
       "  <th>Model:</th>                 <td>Logit</td>      <th>  Df Residuals:      </th>  <td>  9974</td> \n",
       "</tr>\n",
       "<tr>\n",
       "  <th>Method:</th>                 <td>MLE</td>       <th>  Df Model:          </th>  <td>    16</td> \n",
       "</tr>\n",
       "<tr>\n",
       "  <th>Date:</th>            <td>Mon, 20 Nov 2023</td> <th>  Pseudo R-squ.:     </th>  <td>0.4676</td> \n",
       "</tr>\n",
       "<tr>\n",
       "  <th>Time:</th>                <td>21:56:56</td>     <th>  Log-Likelihood:    </th> <td> -3077.1</td>\n",
       "</tr>\n",
       "<tr>\n",
       "  <th>converged:</th>             <td>True</td>       <th>  LL-Null:           </th> <td> -5779.4</td>\n",
       "</tr>\n",
       "<tr>\n",
       "  <th>Covariance Type:</th>     <td>nonrobust</td>    <th>  LLR p-value:       </th>  <td> 0.000</td> \n",
       "</tr>\n",
       "</table>\n",
       "<table class=\"simpletable\">\n",
       "<tr>\n",
       "               <td></td>                 <th>coef</th>     <th>std err</th>      <th>z</th>      <th>P>|z|</th>  <th>[0.025</th>    <th>0.975]</th>  \n",
       "</tr>\n",
       "<tr>\n",
       "  <th>Intercept</th>                  <td>   -2.8070</td> <td>    0.184</td> <td>  -15.239</td> <td> 0.000</td> <td>   -3.168</td> <td>   -2.446</td>\n",
       "</tr>\n",
       "<tr>\n",
       "  <th>Population</th>                 <td> -1.83e-06</td> <td> 2.28e-06</td> <td>   -0.802</td> <td> 0.422</td> <td> -6.3e-06</td> <td> 2.64e-06</td>\n",
       "</tr>\n",
       "<tr>\n",
       "  <th>Age</th>                        <td>    0.0028</td> <td>    0.002</td> <td>    1.811</td> <td> 0.070</td> <td>   -0.000</td> <td>    0.006</td>\n",
       "</tr>\n",
       "<tr>\n",
       "  <th>Income</th>                     <td> 1.076e-06</td> <td> 1.15e-06</td> <td>    0.931</td> <td> 0.352</td> <td>-1.19e-06</td> <td> 3.34e-06</td>\n",
       "</tr>\n",
       "<tr>\n",
       "  <th>Yearly_equip_failure</th>       <td>   -0.0381</td> <td>    0.051</td> <td>   -0.746</td> <td> 0.456</td> <td>   -0.138</td> <td>    0.062</td>\n",
       "</tr>\n",
       "<tr>\n",
       "  <th>Techie</th>                     <td>    0.7585</td> <td>    0.084</td> <td>    9.036</td> <td> 0.000</td> <td>    0.594</td> <td>    0.923</td>\n",
       "</tr>\n",
       "<tr>\n",
       "  <th>Port_modem</th>                 <td>    0.1068</td> <td>    0.064</td> <td>    1.661</td> <td> 0.097</td> <td>   -0.019</td> <td>    0.233</td>\n",
       "</tr>\n",
       "<tr>\n",
       "  <th>Tablet</th>                     <td>   -0.0482</td> <td>    0.070</td> <td>   -0.691</td> <td> 0.490</td> <td>   -0.185</td> <td>    0.089</td>\n",
       "</tr>\n",
       "<tr>\n",
       "  <th>Phone</th>                      <td>   -0.2935</td> <td>    0.109</td> <td>   -2.702</td> <td> 0.007</td> <td>   -0.506</td> <td>   -0.081</td>\n",
       "</tr>\n",
       "<tr>\n",
       "  <th>Multiple</th>                   <td>    1.1390</td> <td>    0.067</td> <td>   17.044</td> <td> 0.000</td> <td>    1.008</td> <td>    1.270</td>\n",
       "</tr>\n",
       "<tr>\n",
       "  <th>OnlineSecurity</th>             <td>   -0.1398</td> <td>    0.067</td> <td>   -2.082</td> <td> 0.037</td> <td>   -0.271</td> <td>   -0.008</td>\n",
       "</tr>\n",
       "<tr>\n",
       "  <th>OnlineBackup</th>               <td>    0.5727</td> <td>    0.065</td> <td>    8.793</td> <td> 0.000</td> <td>    0.445</td> <td>    0.700</td>\n",
       "</tr>\n",
       "<tr>\n",
       "  <th>StreamingTV</th>                <td>    2.0953</td> <td>    0.074</td> <td>   28.440</td> <td> 0.000</td> <td>    1.951</td> <td>    2.240</td>\n",
       "</tr>\n",
       "<tr>\n",
       "  <th>StreamingMovies</th>            <td>    2.5272</td> <td>    0.076</td> <td>   33.134</td> <td> 0.000</td> <td>    2.378</td> <td>    2.677</td>\n",
       "</tr>\n",
       "<tr>\n",
       "  <th>Tenure</th>                     <td>   -0.0808</td> <td>    0.002</td> <td>  -42.344</td> <td> 0.000</td> <td>   -0.085</td> <td>   -0.077</td>\n",
       "</tr>\n",
       "<tr>\n",
       "  <th>InternetService_DSL</th>        <td>    0.9335</td> <td>    0.090</td> <td>   10.404</td> <td> 0.000</td> <td>    0.758</td> <td>    1.109</td>\n",
       "</tr>\n",
       "<tr>\n",
       "  <th>InternetService_FiberOptic</th> <td>    0.0168</td> <td>    0.087</td> <td>    0.194</td> <td> 0.846</td> <td>   -0.153</td> <td>    0.187</td>\n",
       "</tr>\n",
       "</table>"
      ],
      "text/latex": [
       "\\begin{center}\n",
       "\\begin{tabular}{lclc}\n",
       "\\toprule\n",
       "\\textbf{Dep. Variable:}              &      Churn       & \\textbf{  No. Observations:  } &     9991    \\\\\n",
       "\\textbf{Model:}                      &      Logit       & \\textbf{  Df Residuals:      } &     9974    \\\\\n",
       "\\textbf{Method:}                     &       MLE        & \\textbf{  Df Model:          } &       16    \\\\\n",
       "\\textbf{Date:}                       & Mon, 20 Nov 2023 & \\textbf{  Pseudo R-squ.:     } &   0.4676    \\\\\n",
       "\\textbf{Time:}                       &     21:56:56     & \\textbf{  Log-Likelihood:    } &   -3077.1   \\\\\n",
       "\\textbf{converged:}                  &       True       & \\textbf{  LL-Null:           } &   -5779.4   \\\\\n",
       "\\textbf{Covariance Type:}            &    nonrobust     & \\textbf{  LLR p-value:       } &    0.000    \\\\\n",
       "\\bottomrule\n",
       "\\end{tabular}\n",
       "\\begin{tabular}{lcccccc}\n",
       "                                     & \\textbf{coef} & \\textbf{std err} & \\textbf{z} & \\textbf{P$> |$z$|$} & \\textbf{[0.025} & \\textbf{0.975]}  \\\\\n",
       "\\midrule\n",
       "\\textbf{Intercept}                   &      -2.8070  &        0.184     &   -15.239  &         0.000        &       -3.168    &       -2.446     \\\\\n",
       "\\textbf{Population}                  &    -1.83e-06  &     2.28e-06     &    -0.802  &         0.422        &     -6.3e-06    &     2.64e-06     \\\\\n",
       "\\textbf{Age}                         &       0.0028  &        0.002     &     1.811  &         0.070        &       -0.000    &        0.006     \\\\\n",
       "\\textbf{Income}                      &    1.076e-06  &     1.15e-06     &     0.931  &         0.352        &    -1.19e-06    &     3.34e-06     \\\\\n",
       "\\textbf{Yearly\\_equip\\_failure}      &      -0.0381  &        0.051     &    -0.746  &         0.456        &       -0.138    &        0.062     \\\\\n",
       "\\textbf{Techie}                      &       0.7585  &        0.084     &     9.036  &         0.000        &        0.594    &        0.923     \\\\\n",
       "\\textbf{Port\\_modem}                 &       0.1068  &        0.064     &     1.661  &         0.097        &       -0.019    &        0.233     \\\\\n",
       "\\textbf{Tablet}                      &      -0.0482  &        0.070     &    -0.691  &         0.490        &       -0.185    &        0.089     \\\\\n",
       "\\textbf{Phone}                       &      -0.2935  &        0.109     &    -2.702  &         0.007        &       -0.506    &       -0.081     \\\\\n",
       "\\textbf{Multiple}                    &       1.1390  &        0.067     &    17.044  &         0.000        &        1.008    &        1.270     \\\\\n",
       "\\textbf{OnlineSecurity}              &      -0.1398  &        0.067     &    -2.082  &         0.037        &       -0.271    &       -0.008     \\\\\n",
       "\\textbf{OnlineBackup}                &       0.5727  &        0.065     &     8.793  &         0.000        &        0.445    &        0.700     \\\\\n",
       "\\textbf{StreamingTV}                 &       2.0953  &        0.074     &    28.440  &         0.000        &        1.951    &        2.240     \\\\\n",
       "\\textbf{StreamingMovies}             &       2.5272  &        0.076     &    33.134  &         0.000        &        2.378    &        2.677     \\\\\n",
       "\\textbf{Tenure}                      &      -0.0808  &        0.002     &   -42.344  &         0.000        &       -0.085    &       -0.077     \\\\\n",
       "\\textbf{InternetService\\_DSL}        &       0.9335  &        0.090     &    10.404  &         0.000        &        0.758    &        1.109     \\\\\n",
       "\\textbf{InternetService\\_FiberOptic} &       0.0168  &        0.087     &     0.194  &         0.846        &       -0.153    &        0.187     \\\\\n",
       "\\bottomrule\n",
       "\\end{tabular}\n",
       "%\\caption{Logit Regression Results}\n",
       "\\end{center}"
      ],
      "text/plain": [
       "<class 'statsmodels.iolib.summary.Summary'>\n",
       "\"\"\"\n",
       "                           Logit Regression Results                           \n",
       "==============================================================================\n",
       "Dep. Variable:                  Churn   No. Observations:                 9991\n",
       "Model:                          Logit   Df Residuals:                     9974\n",
       "Method:                           MLE   Df Model:                           16\n",
       "Date:                Mon, 20 Nov 2023   Pseudo R-squ.:                  0.4676\n",
       "Time:                        21:56:56   Log-Likelihood:                -3077.1\n",
       "converged:                       True   LL-Null:                       -5779.4\n",
       "Covariance Type:            nonrobust   LLR p-value:                     0.000\n",
       "==============================================================================================\n",
       "                                 coef    std err          z      P>|z|      [0.025      0.975]\n",
       "----------------------------------------------------------------------------------------------\n",
       "Intercept                     -2.8070      0.184    -15.239      0.000      -3.168      -2.446\n",
       "Population                  -1.83e-06   2.28e-06     -0.802      0.422    -6.3e-06    2.64e-06\n",
       "Age                            0.0028      0.002      1.811      0.070      -0.000       0.006\n",
       "Income                      1.076e-06   1.15e-06      0.931      0.352   -1.19e-06    3.34e-06\n",
       "Yearly_equip_failure          -0.0381      0.051     -0.746      0.456      -0.138       0.062\n",
       "Techie                         0.7585      0.084      9.036      0.000       0.594       0.923\n",
       "Port_modem                     0.1068      0.064      1.661      0.097      -0.019       0.233\n",
       "Tablet                        -0.0482      0.070     -0.691      0.490      -0.185       0.089\n",
       "Phone                         -0.2935      0.109     -2.702      0.007      -0.506      -0.081\n",
       "Multiple                       1.1390      0.067     17.044      0.000       1.008       1.270\n",
       "OnlineSecurity                -0.1398      0.067     -2.082      0.037      -0.271      -0.008\n",
       "OnlineBackup                   0.5727      0.065      8.793      0.000       0.445       0.700\n",
       "StreamingTV                    2.0953      0.074     28.440      0.000       1.951       2.240\n",
       "StreamingMovies                2.5272      0.076     33.134      0.000       2.378       2.677\n",
       "Tenure                        -0.0808      0.002    -42.344      0.000      -0.085      -0.077\n",
       "InternetService_DSL            0.9335      0.090     10.404      0.000       0.758       1.109\n",
       "InternetService_FiberOptic     0.0168      0.087      0.194      0.846      -0.153       0.187\n",
       "==============================================================================================\n",
       "\"\"\""
      ]
     },
     "execution_count": 17,
     "metadata": {},
     "output_type": "execute_result"
    }
   ],
   "source": [
    "# Outage_sec_perweek highest p > 0.05. Remove from model\n",
    "model_reduced2 = logit(\"Churn ~ Population + Age + Income + Yearly_equip_failure + Techie + Port_modem + Tablet + Phone + Multiple + OnlineSecurity + OnlineBackup + StreamingTV + StreamingMovies + Tenure + InternetService_DSL + InternetService_FiberOptic\", \n",
    "                      data=df).fit()\n",
    "\n",
    "model_reduced2.summary()"
   ]
  },
  {
   "cell_type": "code",
   "execution_count": 18,
   "id": "2141d123-3387-463d-9dde-71215ad3e299",
   "metadata": {},
   "outputs": [
    {
     "name": "stdout",
     "output_type": "stream",
     "text": [
      "Optimization terminated successfully.\n",
      "         Current function value: 0.307989\n",
      "         Iterations 8\n"
     ]
    },
    {
     "data": {
      "text/html": [
       "<table class=\"simpletable\">\n",
       "<caption>Logit Regression Results</caption>\n",
       "<tr>\n",
       "  <th>Dep. Variable:</th>         <td>Churn</td>      <th>  No. Observations:  </th>  <td>  9991</td> \n",
       "</tr>\n",
       "<tr>\n",
       "  <th>Model:</th>                 <td>Logit</td>      <th>  Df Residuals:      </th>  <td>  9975</td> \n",
       "</tr>\n",
       "<tr>\n",
       "  <th>Method:</th>                 <td>MLE</td>       <th>  Df Model:          </th>  <td>    15</td> \n",
       "</tr>\n",
       "<tr>\n",
       "  <th>Date:</th>            <td>Mon, 20 Nov 2023</td> <th>  Pseudo R-squ.:     </th>  <td>0.4676</td> \n",
       "</tr>\n",
       "<tr>\n",
       "  <th>Time:</th>                <td>21:57:32</td>     <th>  Log-Likelihood:    </th> <td> -3077.1</td>\n",
       "</tr>\n",
       "<tr>\n",
       "  <th>converged:</th>             <td>True</td>       <th>  LL-Null:           </th> <td> -5779.4</td>\n",
       "</tr>\n",
       "<tr>\n",
       "  <th>Covariance Type:</th>     <td>nonrobust</td>    <th>  LLR p-value:       </th>  <td> 0.000</td> \n",
       "</tr>\n",
       "</table>\n",
       "<table class=\"simpletable\">\n",
       "<tr>\n",
       "            <td></td>              <th>coef</th>     <th>std err</th>      <th>z</th>      <th>P>|z|</th>  <th>[0.025</th>    <th>0.975]</th>  \n",
       "</tr>\n",
       "<tr>\n",
       "  <th>Intercept</th>            <td>   -2.7957</td> <td>    0.175</td> <td>  -16.003</td> <td> 0.000</td> <td>   -3.138</td> <td>   -2.453</td>\n",
       "</tr>\n",
       "<tr>\n",
       "  <th>Population</th>           <td>-1.828e-06</td> <td> 2.28e-06</td> <td>   -0.802</td> <td> 0.423</td> <td> -6.3e-06</td> <td> 2.64e-06</td>\n",
       "</tr>\n",
       "<tr>\n",
       "  <th>Age</th>                  <td>    0.0028</td> <td>    0.002</td> <td>    1.810</td> <td> 0.070</td> <td>   -0.000</td> <td>    0.006</td>\n",
       "</tr>\n",
       "<tr>\n",
       "  <th>Income</th>               <td> 1.078e-06</td> <td> 1.15e-06</td> <td>    0.933</td> <td> 0.351</td> <td>-1.19e-06</td> <td> 3.34e-06</td>\n",
       "</tr>\n",
       "<tr>\n",
       "  <th>Yearly_equip_failure</th> <td>   -0.0381</td> <td>    0.051</td> <td>   -0.745</td> <td> 0.456</td> <td>   -0.138</td> <td>    0.062</td>\n",
       "</tr>\n",
       "<tr>\n",
       "  <th>Techie</th>               <td>    0.7588</td> <td>    0.084</td> <td>    9.041</td> <td> 0.000</td> <td>    0.594</td> <td>    0.923</td>\n",
       "</tr>\n",
       "<tr>\n",
       "  <th>Port_modem</th>           <td>    0.1069</td> <td>    0.064</td> <td>    1.663</td> <td> 0.096</td> <td>   -0.019</td> <td>    0.233</td>\n",
       "</tr>\n",
       "<tr>\n",
       "  <th>Tablet</th>               <td>   -0.0484</td> <td>    0.070</td> <td>   -0.693</td> <td> 0.488</td> <td>   -0.185</td> <td>    0.088</td>\n",
       "</tr>\n",
       "<tr>\n",
       "  <th>Phone</th>                <td>   -0.2940</td> <td>    0.109</td> <td>   -2.707</td> <td> 0.007</td> <td>   -0.507</td> <td>   -0.081</td>\n",
       "</tr>\n",
       "<tr>\n",
       "  <th>Multiple</th>             <td>    1.1394</td> <td>    0.067</td> <td>   17.056</td> <td> 0.000</td> <td>    1.008</td> <td>    1.270</td>\n",
       "</tr>\n",
       "<tr>\n",
       "  <th>OnlineSecurity</th>       <td>   -0.1396</td> <td>    0.067</td> <td>   -2.079</td> <td> 0.038</td> <td>   -0.271</td> <td>   -0.008</td>\n",
       "</tr>\n",
       "<tr>\n",
       "  <th>OnlineBackup</th>         <td>    0.5728</td> <td>    0.065</td> <td>    8.794</td> <td> 0.000</td> <td>    0.445</td> <td>    0.700</td>\n",
       "</tr>\n",
       "<tr>\n",
       "  <th>StreamingTV</th>          <td>    2.0953</td> <td>    0.074</td> <td>   28.439</td> <td> 0.000</td> <td>    1.951</td> <td>    2.240</td>\n",
       "</tr>\n",
       "<tr>\n",
       "  <th>StreamingMovies</th>      <td>    2.5272</td> <td>    0.076</td> <td>   33.134</td> <td> 0.000</td> <td>    2.378</td> <td>    2.677</td>\n",
       "</tr>\n",
       "<tr>\n",
       "  <th>Tenure</th>               <td>   -0.0808</td> <td>    0.002</td> <td>  -42.344</td> <td> 0.000</td> <td>   -0.085</td> <td>   -0.077</td>\n",
       "</tr>\n",
       "<tr>\n",
       "  <th>InternetService_DSL</th>  <td>    0.9222</td> <td>    0.068</td> <td>   13.538</td> <td> 0.000</td> <td>    0.789</td> <td>    1.056</td>\n",
       "</tr>\n",
       "</table>"
      ],
      "text/latex": [
       "\\begin{center}\n",
       "\\begin{tabular}{lclc}\n",
       "\\toprule\n",
       "\\textbf{Dep. Variable:}         &      Churn       & \\textbf{  No. Observations:  } &     9991    \\\\\n",
       "\\textbf{Model:}                 &      Logit       & \\textbf{  Df Residuals:      } &     9975    \\\\\n",
       "\\textbf{Method:}                &       MLE        & \\textbf{  Df Model:          } &       15    \\\\\n",
       "\\textbf{Date:}                  & Mon, 20 Nov 2023 & \\textbf{  Pseudo R-squ.:     } &   0.4676    \\\\\n",
       "\\textbf{Time:}                  &     21:57:32     & \\textbf{  Log-Likelihood:    } &   -3077.1   \\\\\n",
       "\\textbf{converged:}             &       True       & \\textbf{  LL-Null:           } &   -5779.4   \\\\\n",
       "\\textbf{Covariance Type:}       &    nonrobust     & \\textbf{  LLR p-value:       } &    0.000    \\\\\n",
       "\\bottomrule\n",
       "\\end{tabular}\n",
       "\\begin{tabular}{lcccccc}\n",
       "                                & \\textbf{coef} & \\textbf{std err} & \\textbf{z} & \\textbf{P$> |$z$|$} & \\textbf{[0.025} & \\textbf{0.975]}  \\\\\n",
       "\\midrule\n",
       "\\textbf{Intercept}              &      -2.7957  &        0.175     &   -16.003  &         0.000        &       -3.138    &       -2.453     \\\\\n",
       "\\textbf{Population}             &   -1.828e-06  &     2.28e-06     &    -0.802  &         0.423        &     -6.3e-06    &     2.64e-06     \\\\\n",
       "\\textbf{Age}                    &       0.0028  &        0.002     &     1.810  &         0.070        &       -0.000    &        0.006     \\\\\n",
       "\\textbf{Income}                 &    1.078e-06  &     1.15e-06     &     0.933  &         0.351        &    -1.19e-06    &     3.34e-06     \\\\\n",
       "\\textbf{Yearly\\_equip\\_failure} &      -0.0381  &        0.051     &    -0.745  &         0.456        &       -0.138    &        0.062     \\\\\n",
       "\\textbf{Techie}                 &       0.7588  &        0.084     &     9.041  &         0.000        &        0.594    &        0.923     \\\\\n",
       "\\textbf{Port\\_modem}            &       0.1069  &        0.064     &     1.663  &         0.096        &       -0.019    &        0.233     \\\\\n",
       "\\textbf{Tablet}                 &      -0.0484  &        0.070     &    -0.693  &         0.488        &       -0.185    &        0.088     \\\\\n",
       "\\textbf{Phone}                  &      -0.2940  &        0.109     &    -2.707  &         0.007        &       -0.507    &       -0.081     \\\\\n",
       "\\textbf{Multiple}               &       1.1394  &        0.067     &    17.056  &         0.000        &        1.008    &        1.270     \\\\\n",
       "\\textbf{OnlineSecurity}         &      -0.1396  &        0.067     &    -2.079  &         0.038        &       -0.271    &       -0.008     \\\\\n",
       "\\textbf{OnlineBackup}           &       0.5728  &        0.065     &     8.794  &         0.000        &        0.445    &        0.700     \\\\\n",
       "\\textbf{StreamingTV}            &       2.0953  &        0.074     &    28.439  &         0.000        &        1.951    &        2.240     \\\\\n",
       "\\textbf{StreamingMovies}        &       2.5272  &        0.076     &    33.134  &         0.000        &        2.378    &        2.677     \\\\\n",
       "\\textbf{Tenure}                 &      -0.0808  &        0.002     &   -42.344  &         0.000        &       -0.085    &       -0.077     \\\\\n",
       "\\textbf{InternetService\\_DSL}   &       0.9222  &        0.068     &    13.538  &         0.000        &        0.789    &        1.056     \\\\\n",
       "\\bottomrule\n",
       "\\end{tabular}\n",
       "%\\caption{Logit Regression Results}\n",
       "\\end{center}"
      ],
      "text/plain": [
       "<class 'statsmodels.iolib.summary.Summary'>\n",
       "\"\"\"\n",
       "                           Logit Regression Results                           \n",
       "==============================================================================\n",
       "Dep. Variable:                  Churn   No. Observations:                 9991\n",
       "Model:                          Logit   Df Residuals:                     9975\n",
       "Method:                           MLE   Df Model:                           15\n",
       "Date:                Mon, 20 Nov 2023   Pseudo R-squ.:                  0.4676\n",
       "Time:                        21:57:32   Log-Likelihood:                -3077.1\n",
       "converged:                       True   LL-Null:                       -5779.4\n",
       "Covariance Type:            nonrobust   LLR p-value:                     0.000\n",
       "========================================================================================\n",
       "                           coef    std err          z      P>|z|      [0.025      0.975]\n",
       "----------------------------------------------------------------------------------------\n",
       "Intercept               -2.7957      0.175    -16.003      0.000      -3.138      -2.453\n",
       "Population           -1.828e-06   2.28e-06     -0.802      0.423    -6.3e-06    2.64e-06\n",
       "Age                      0.0028      0.002      1.810      0.070      -0.000       0.006\n",
       "Income                1.078e-06   1.15e-06      0.933      0.351   -1.19e-06    3.34e-06\n",
       "Yearly_equip_failure    -0.0381      0.051     -0.745      0.456      -0.138       0.062\n",
       "Techie                   0.7588      0.084      9.041      0.000       0.594       0.923\n",
       "Port_modem               0.1069      0.064      1.663      0.096      -0.019       0.233\n",
       "Tablet                  -0.0484      0.070     -0.693      0.488      -0.185       0.088\n",
       "Phone                   -0.2940      0.109     -2.707      0.007      -0.507      -0.081\n",
       "Multiple                 1.1394      0.067     17.056      0.000       1.008       1.270\n",
       "OnlineSecurity          -0.1396      0.067     -2.079      0.038      -0.271      -0.008\n",
       "OnlineBackup             0.5728      0.065      8.794      0.000       0.445       0.700\n",
       "StreamingTV              2.0953      0.074     28.439      0.000       1.951       2.240\n",
       "StreamingMovies          2.5272      0.076     33.134      0.000       2.378       2.677\n",
       "Tenure                  -0.0808      0.002    -42.344      0.000      -0.085      -0.077\n",
       "InternetService_DSL      0.9222      0.068     13.538      0.000       0.789       1.056\n",
       "========================================================================================\n",
       "\"\"\""
      ]
     },
     "execution_count": 18,
     "metadata": {},
     "output_type": "execute_result"
    }
   ],
   "source": [
    "# InternetService_FiberOptic highest p > 0.05. Remove from model\n",
    "model_reduced3 = logit(\"Churn ~ Population + Age + Income + Yearly_equip_failure + Techie + Port_modem + Tablet + Phone + Multiple + OnlineSecurity + OnlineBackup + StreamingTV + StreamingMovies + Tenure + InternetService_DSL\", \n",
    "                      data=df).fit()\n",
    "\n",
    "model_reduced3.summary()"
   ]
  },
  {
   "cell_type": "code",
   "execution_count": 53,
   "id": "3a514b8c-02a2-41d6-9b38-54f32cc221f5",
   "metadata": {},
   "outputs": [
    {
     "name": "stdout",
     "output_type": "stream",
     "text": [
      "Optimization terminated successfully.\n",
      "         Current function value: 0.308014\n",
      "         Iterations 8\n"
     ]
    },
    {
     "data": {
      "text/html": [
       "<table class=\"simpletable\">\n",
       "<caption>Logit Regression Results</caption>\n",
       "<tr>\n",
       "  <th>Dep. Variable:</th>         <td>Churn</td>      <th>  No. Observations:  </th>  <td>  9991</td> \n",
       "</tr>\n",
       "<tr>\n",
       "  <th>Model:</th>                 <td>Logit</td>      <th>  Df Residuals:      </th>  <td>  9976</td> \n",
       "</tr>\n",
       "<tr>\n",
       "  <th>Method:</th>                 <td>MLE</td>       <th>  Df Model:          </th>  <td>    14</td> \n",
       "</tr>\n",
       "<tr>\n",
       "  <th>Date:</th>            <td>Wed, 22 Nov 2023</td> <th>  Pseudo R-squ.:     </th>  <td>0.4675</td> \n",
       "</tr>\n",
       "<tr>\n",
       "  <th>Time:</th>                <td>13:44:12</td>     <th>  Log-Likelihood:    </th> <td> -3077.4</td>\n",
       "</tr>\n",
       "<tr>\n",
       "  <th>converged:</th>             <td>True</td>       <th>  LL-Null:           </th> <td> -5779.4</td>\n",
       "</tr>\n",
       "<tr>\n",
       "  <th>Covariance Type:</th>     <td>nonrobust</td>    <th>  LLR p-value:       </th>  <td> 0.000</td> \n",
       "</tr>\n",
       "</table>\n",
       "<table class=\"simpletable\">\n",
       "<tr>\n",
       "            <td></td>              <th>coef</th>     <th>std err</th>      <th>z</th>      <th>P>|z|</th>  <th>[0.025</th>    <th>0.975]</th>  \n",
       "</tr>\n",
       "<tr>\n",
       "  <th>Intercept</th>            <td>   -2.8089</td> <td>    0.174</td> <td>  -16.172</td> <td> 0.000</td> <td>   -3.149</td> <td>   -2.468</td>\n",
       "</tr>\n",
       "<tr>\n",
       "  <th>Population</th>           <td>-1.835e-06</td> <td> 2.28e-06</td> <td>   -0.805</td> <td> 0.421</td> <td> -6.3e-06</td> <td> 2.63e-06</td>\n",
       "</tr>\n",
       "<tr>\n",
       "  <th>Age</th>                  <td>    0.0028</td> <td>    0.002</td> <td>    1.817</td> <td> 0.069</td> <td>   -0.000</td> <td>    0.006</td>\n",
       "</tr>\n",
       "<tr>\n",
       "  <th>Income</th>               <td> 1.076e-06</td> <td> 1.15e-06</td> <td>    0.932</td> <td> 0.352</td> <td>-1.19e-06</td> <td> 3.34e-06</td>\n",
       "</tr>\n",
       "<tr>\n",
       "  <th>Yearly_equip_failure</th> <td>   -0.0379</td> <td>    0.051</td> <td>   -0.742</td> <td> 0.458</td> <td>   -0.138</td> <td>    0.062</td>\n",
       "</tr>\n",
       "<tr>\n",
       "  <th>Techie</th>               <td>    0.7570</td> <td>    0.084</td> <td>    9.026</td> <td> 0.000</td> <td>    0.593</td> <td>    0.921</td>\n",
       "</tr>\n",
       "<tr>\n",
       "  <th>Port_modem</th>           <td>    0.1070</td> <td>    0.064</td> <td>    1.665</td> <td> 0.096</td> <td>   -0.019</td> <td>    0.233</td>\n",
       "</tr>\n",
       "<tr>\n",
       "  <th>Phone</th>                <td>   -0.2961</td> <td>    0.109</td> <td>   -2.728</td> <td> 0.006</td> <td>   -0.509</td> <td>   -0.083</td>\n",
       "</tr>\n",
       "<tr>\n",
       "  <th>Multiple</th>             <td>    1.1406</td> <td>    0.067</td> <td>   17.079</td> <td> 0.000</td> <td>    1.010</td> <td>    1.271</td>\n",
       "</tr>\n",
       "<tr>\n",
       "  <th>OnlineSecurity</th>       <td>   -0.1395</td> <td>    0.067</td> <td>   -2.078</td> <td> 0.038</td> <td>   -0.271</td> <td>   -0.008</td>\n",
       "</tr>\n",
       "<tr>\n",
       "  <th>OnlineBackup</th>         <td>    0.5730</td> <td>    0.065</td> <td>    8.798</td> <td> 0.000</td> <td>    0.445</td> <td>    0.701</td>\n",
       "</tr>\n",
       "<tr>\n",
       "  <th>StreamingTV</th>          <td>    2.0953</td> <td>    0.074</td> <td>   28.441</td> <td> 0.000</td> <td>    1.951</td> <td>    2.240</td>\n",
       "</tr>\n",
       "<tr>\n",
       "  <th>StreamingMovies</th>      <td>    2.5261</td> <td>    0.076</td> <td>   33.132</td> <td> 0.000</td> <td>    2.377</td> <td>    2.676</td>\n",
       "</tr>\n",
       "<tr>\n",
       "  <th>Tenure</th>               <td>   -0.0808</td> <td>    0.002</td> <td>  -42.346</td> <td> 0.000</td> <td>   -0.085</td> <td>   -0.077</td>\n",
       "</tr>\n",
       "<tr>\n",
       "  <th>InternetService_DSL</th>  <td>    0.9220</td> <td>    0.068</td> <td>   13.537</td> <td> 0.000</td> <td>    0.789</td> <td>    1.056</td>\n",
       "</tr>\n",
       "</table>"
      ],
      "text/latex": [
       "\\begin{center}\n",
       "\\begin{tabular}{lclc}\n",
       "\\toprule\n",
       "\\textbf{Dep. Variable:}         &      Churn       & \\textbf{  No. Observations:  } &     9991    \\\\\n",
       "\\textbf{Model:}                 &      Logit       & \\textbf{  Df Residuals:      } &     9976    \\\\\n",
       "\\textbf{Method:}                &       MLE        & \\textbf{  Df Model:          } &       14    \\\\\n",
       "\\textbf{Date:}                  & Wed, 22 Nov 2023 & \\textbf{  Pseudo R-squ.:     } &   0.4675    \\\\\n",
       "\\textbf{Time:}                  &     13:44:12     & \\textbf{  Log-Likelihood:    } &   -3077.4   \\\\\n",
       "\\textbf{converged:}             &       True       & \\textbf{  LL-Null:           } &   -5779.4   \\\\\n",
       "\\textbf{Covariance Type:}       &    nonrobust     & \\textbf{  LLR p-value:       } &    0.000    \\\\\n",
       "\\bottomrule\n",
       "\\end{tabular}\n",
       "\\begin{tabular}{lcccccc}\n",
       "                                & \\textbf{coef} & \\textbf{std err} & \\textbf{z} & \\textbf{P$> |$z$|$} & \\textbf{[0.025} & \\textbf{0.975]}  \\\\\n",
       "\\midrule\n",
       "\\textbf{Intercept}              &      -2.8089  &        0.174     &   -16.172  &         0.000        &       -3.149    &       -2.468     \\\\\n",
       "\\textbf{Population}             &   -1.835e-06  &     2.28e-06     &    -0.805  &         0.421        &     -6.3e-06    &     2.63e-06     \\\\\n",
       "\\textbf{Age}                    &       0.0028  &        0.002     &     1.817  &         0.069        &       -0.000    &        0.006     \\\\\n",
       "\\textbf{Income}                 &    1.076e-06  &     1.15e-06     &     0.932  &         0.352        &    -1.19e-06    &     3.34e-06     \\\\\n",
       "\\textbf{Yearly\\_equip\\_failure} &      -0.0379  &        0.051     &    -0.742  &         0.458        &       -0.138    &        0.062     \\\\\n",
       "\\textbf{Techie}                 &       0.7570  &        0.084     &     9.026  &         0.000        &        0.593    &        0.921     \\\\\n",
       "\\textbf{Port\\_modem}            &       0.1070  &        0.064     &     1.665  &         0.096        &       -0.019    &        0.233     \\\\\n",
       "\\textbf{Phone}                  &      -0.2961  &        0.109     &    -2.728  &         0.006        &       -0.509    &       -0.083     \\\\\n",
       "\\textbf{Multiple}               &       1.1406  &        0.067     &    17.079  &         0.000        &        1.010    &        1.271     \\\\\n",
       "\\textbf{OnlineSecurity}         &      -0.1395  &        0.067     &    -2.078  &         0.038        &       -0.271    &       -0.008     \\\\\n",
       "\\textbf{OnlineBackup}           &       0.5730  &        0.065     &     8.798  &         0.000        &        0.445    &        0.701     \\\\\n",
       "\\textbf{StreamingTV}            &       2.0953  &        0.074     &    28.441  &         0.000        &        1.951    &        2.240     \\\\\n",
       "\\textbf{StreamingMovies}        &       2.5261  &        0.076     &    33.132  &         0.000        &        2.377    &        2.676     \\\\\n",
       "\\textbf{Tenure}                 &      -0.0808  &        0.002     &   -42.346  &         0.000        &       -0.085    &       -0.077     \\\\\n",
       "\\textbf{InternetService\\_DSL}   &       0.9220  &        0.068     &    13.537  &         0.000        &        0.789    &        1.056     \\\\\n",
       "\\bottomrule\n",
       "\\end{tabular}\n",
       "%\\caption{Logit Regression Results}\n",
       "\\end{center}"
      ],
      "text/plain": [
       "<class 'statsmodels.iolib.summary.Summary'>\n",
       "\"\"\"\n",
       "                           Logit Regression Results                           \n",
       "==============================================================================\n",
       "Dep. Variable:                  Churn   No. Observations:                 9991\n",
       "Model:                          Logit   Df Residuals:                     9976\n",
       "Method:                           MLE   Df Model:                           14\n",
       "Date:                Wed, 22 Nov 2023   Pseudo R-squ.:                  0.4675\n",
       "Time:                        13:44:12   Log-Likelihood:                -3077.4\n",
       "converged:                       True   LL-Null:                       -5779.4\n",
       "Covariance Type:            nonrobust   LLR p-value:                     0.000\n",
       "========================================================================================\n",
       "                           coef    std err          z      P>|z|      [0.025      0.975]\n",
       "----------------------------------------------------------------------------------------\n",
       "Intercept               -2.8089      0.174    -16.172      0.000      -3.149      -2.468\n",
       "Population           -1.835e-06   2.28e-06     -0.805      0.421    -6.3e-06    2.63e-06\n",
       "Age                      0.0028      0.002      1.817      0.069      -0.000       0.006\n",
       "Income                1.076e-06   1.15e-06      0.932      0.352   -1.19e-06    3.34e-06\n",
       "Yearly_equip_failure    -0.0379      0.051     -0.742      0.458      -0.138       0.062\n",
       "Techie                   0.7570      0.084      9.026      0.000       0.593       0.921\n",
       "Port_modem               0.1070      0.064      1.665      0.096      -0.019       0.233\n",
       "Phone                   -0.2961      0.109     -2.728      0.006      -0.509      -0.083\n",
       "Multiple                 1.1406      0.067     17.079      0.000       1.010       1.271\n",
       "OnlineSecurity          -0.1395      0.067     -2.078      0.038      -0.271      -0.008\n",
       "OnlineBackup             0.5730      0.065      8.798      0.000       0.445       0.701\n",
       "StreamingTV              2.0953      0.074     28.441      0.000       1.951       2.240\n",
       "StreamingMovies          2.5261      0.076     33.132      0.000       2.377       2.676\n",
       "Tenure                  -0.0808      0.002    -42.346      0.000      -0.085      -0.077\n",
       "InternetService_DSL      0.9220      0.068     13.537      0.000       0.789       1.056\n",
       "========================================================================================\n",
       "\"\"\""
      ]
     },
     "execution_count": 53,
     "metadata": {},
     "output_type": "execute_result"
    }
   ],
   "source": [
    "# Tablet highest p > 0.05. Remove from model\n",
    "model_reduced4 = logit(\"Churn ~ Population + Age + Income + Yearly_equip_failure + Techie + Port_modem + Phone + Multiple + OnlineSecurity + OnlineBackup + StreamingTV + StreamingMovies + Tenure + InternetService_DSL\", \n",
    "                      data=df).fit()\n",
    "\n",
    "model_reduced4.summary()"
   ]
  },
  {
   "cell_type": "code",
   "execution_count": 54,
   "id": "c3de1a7b-5250-49cd-a7b5-f2fde32ab492",
   "metadata": {},
   "outputs": [
    {
     "name": "stdout",
     "output_type": "stream",
     "text": [
      "Optimization terminated successfully.\n",
      "         Current function value: 0.308041\n",
      "         Iterations 8\n"
     ]
    },
    {
     "data": {
      "text/html": [
       "<table class=\"simpletable\">\n",
       "<caption>Logit Regression Results</caption>\n",
       "<tr>\n",
       "  <th>Dep. Variable:</th>         <td>Churn</td>      <th>  No. Observations:  </th>  <td>  9991</td> \n",
       "</tr>\n",
       "<tr>\n",
       "  <th>Model:</th>                 <td>Logit</td>      <th>  Df Residuals:      </th>  <td>  9977</td> \n",
       "</tr>\n",
       "<tr>\n",
       "  <th>Method:</th>                 <td>MLE</td>       <th>  Df Model:          </th>  <td>    13</td> \n",
       "</tr>\n",
       "<tr>\n",
       "  <th>Date:</th>            <td>Wed, 22 Nov 2023</td> <th>  Pseudo R-squ.:     </th>  <td>0.4675</td> \n",
       "</tr>\n",
       "<tr>\n",
       "  <th>Time:</th>                <td>13:45:23</td>     <th>  Log-Likelihood:    </th> <td> -3077.6</td>\n",
       "</tr>\n",
       "<tr>\n",
       "  <th>converged:</th>             <td>True</td>       <th>  LL-Null:           </th> <td> -5779.4</td>\n",
       "</tr>\n",
       "<tr>\n",
       "  <th>Covariance Type:</th>     <td>nonrobust</td>    <th>  LLR p-value:       </th>  <td> 0.000</td> \n",
       "</tr>\n",
       "</table>\n",
       "<table class=\"simpletable\">\n",
       "<tr>\n",
       "           <td></td>              <th>coef</th>     <th>std err</th>      <th>z</th>      <th>P>|z|</th>  <th>[0.025</th>    <th>0.975]</th>  \n",
       "</tr>\n",
       "<tr>\n",
       "  <th>Intercept</th>           <td>   -2.8255</td> <td>    0.172</td> <td>  -16.398</td> <td> 0.000</td> <td>   -3.163</td> <td>   -2.488</td>\n",
       "</tr>\n",
       "<tr>\n",
       "  <th>Population</th>          <td>-1.829e-06</td> <td> 2.28e-06</td> <td>   -0.803</td> <td> 0.422</td> <td> -6.3e-06</td> <td> 2.64e-06</td>\n",
       "</tr>\n",
       "<tr>\n",
       "  <th>Age</th>                 <td>    0.0028</td> <td>    0.002</td> <td>    1.815</td> <td> 0.070</td> <td>   -0.000</td> <td>    0.006</td>\n",
       "</tr>\n",
       "<tr>\n",
       "  <th>Income</th>              <td> 1.072e-06</td> <td> 1.15e-06</td> <td>    0.928</td> <td> 0.353</td> <td>-1.19e-06</td> <td> 3.34e-06</td>\n",
       "</tr>\n",
       "<tr>\n",
       "  <th>Techie</th>              <td>    0.7575</td> <td>    0.084</td> <td>    9.033</td> <td> 0.000</td> <td>    0.593</td> <td>    0.922</td>\n",
       "</tr>\n",
       "<tr>\n",
       "  <th>Port_modem</th>          <td>    0.1070</td> <td>    0.064</td> <td>    1.665</td> <td> 0.096</td> <td>   -0.019</td> <td>    0.233</td>\n",
       "</tr>\n",
       "<tr>\n",
       "  <th>Phone</th>               <td>   -0.2947</td> <td>    0.109</td> <td>   -2.715</td> <td> 0.007</td> <td>   -0.507</td> <td>   -0.082</td>\n",
       "</tr>\n",
       "<tr>\n",
       "  <th>Multiple</th>            <td>    1.1402</td> <td>    0.067</td> <td>   17.076</td> <td> 0.000</td> <td>    1.009</td> <td>    1.271</td>\n",
       "</tr>\n",
       "<tr>\n",
       "  <th>OnlineSecurity</th>      <td>   -0.1388</td> <td>    0.067</td> <td>   -2.068</td> <td> 0.039</td> <td>   -0.270</td> <td>   -0.007</td>\n",
       "</tr>\n",
       "<tr>\n",
       "  <th>OnlineBackup</th>        <td>    0.5739</td> <td>    0.065</td> <td>    8.812</td> <td> 0.000</td> <td>    0.446</td> <td>    0.702</td>\n",
       "</tr>\n",
       "<tr>\n",
       "  <th>StreamingTV</th>         <td>    2.0946</td> <td>    0.074</td> <td>   28.438</td> <td> 0.000</td> <td>    1.950</td> <td>    2.239</td>\n",
       "</tr>\n",
       "<tr>\n",
       "  <th>StreamingMovies</th>     <td>    2.5267</td> <td>    0.076</td> <td>   33.142</td> <td> 0.000</td> <td>    2.377</td> <td>    2.676</td>\n",
       "</tr>\n",
       "<tr>\n",
       "  <th>Tenure</th>              <td>   -0.0808</td> <td>    0.002</td> <td>  -42.351</td> <td> 0.000</td> <td>   -0.085</td> <td>   -0.077</td>\n",
       "</tr>\n",
       "<tr>\n",
       "  <th>InternetService_DSL</th> <td>    0.9222</td> <td>    0.068</td> <td>   13.541</td> <td> 0.000</td> <td>    0.789</td> <td>    1.056</td>\n",
       "</tr>\n",
       "</table>"
      ],
      "text/latex": [
       "\\begin{center}\n",
       "\\begin{tabular}{lclc}\n",
       "\\toprule\n",
       "\\textbf{Dep. Variable:}       &      Churn       & \\textbf{  No. Observations:  } &     9991    \\\\\n",
       "\\textbf{Model:}               &      Logit       & \\textbf{  Df Residuals:      } &     9977    \\\\\n",
       "\\textbf{Method:}              &       MLE        & \\textbf{  Df Model:          } &       13    \\\\\n",
       "\\textbf{Date:}                & Wed, 22 Nov 2023 & \\textbf{  Pseudo R-squ.:     } &   0.4675    \\\\\n",
       "\\textbf{Time:}                &     13:45:23     & \\textbf{  Log-Likelihood:    } &   -3077.6   \\\\\n",
       "\\textbf{converged:}           &       True       & \\textbf{  LL-Null:           } &   -5779.4   \\\\\n",
       "\\textbf{Covariance Type:}     &    nonrobust     & \\textbf{  LLR p-value:       } &    0.000    \\\\\n",
       "\\bottomrule\n",
       "\\end{tabular}\n",
       "\\begin{tabular}{lcccccc}\n",
       "                              & \\textbf{coef} & \\textbf{std err} & \\textbf{z} & \\textbf{P$> |$z$|$} & \\textbf{[0.025} & \\textbf{0.975]}  \\\\\n",
       "\\midrule\n",
       "\\textbf{Intercept}            &      -2.8255  &        0.172     &   -16.398  &         0.000        &       -3.163    &       -2.488     \\\\\n",
       "\\textbf{Population}           &   -1.829e-06  &     2.28e-06     &    -0.803  &         0.422        &     -6.3e-06    &     2.64e-06     \\\\\n",
       "\\textbf{Age}                  &       0.0028  &        0.002     &     1.815  &         0.070        &       -0.000    &        0.006     \\\\\n",
       "\\textbf{Income}               &    1.072e-06  &     1.15e-06     &     0.928  &         0.353        &    -1.19e-06    &     3.34e-06     \\\\\n",
       "\\textbf{Techie}               &       0.7575  &        0.084     &     9.033  &         0.000        &        0.593    &        0.922     \\\\\n",
       "\\textbf{Port\\_modem}          &       0.1070  &        0.064     &     1.665  &         0.096        &       -0.019    &        0.233     \\\\\n",
       "\\textbf{Phone}                &      -0.2947  &        0.109     &    -2.715  &         0.007        &       -0.507    &       -0.082     \\\\\n",
       "\\textbf{Multiple}             &       1.1402  &        0.067     &    17.076  &         0.000        &        1.009    &        1.271     \\\\\n",
       "\\textbf{OnlineSecurity}       &      -0.1388  &        0.067     &    -2.068  &         0.039        &       -0.270    &       -0.007     \\\\\n",
       "\\textbf{OnlineBackup}         &       0.5739  &        0.065     &     8.812  &         0.000        &        0.446    &        0.702     \\\\\n",
       "\\textbf{StreamingTV}          &       2.0946  &        0.074     &    28.438  &         0.000        &        1.950    &        2.239     \\\\\n",
       "\\textbf{StreamingMovies}      &       2.5267  &        0.076     &    33.142  &         0.000        &        2.377    &        2.676     \\\\\n",
       "\\textbf{Tenure}               &      -0.0808  &        0.002     &   -42.351  &         0.000        &       -0.085    &       -0.077     \\\\\n",
       "\\textbf{InternetService\\_DSL} &       0.9222  &        0.068     &    13.541  &         0.000        &        0.789    &        1.056     \\\\\n",
       "\\bottomrule\n",
       "\\end{tabular}\n",
       "%\\caption{Logit Regression Results}\n",
       "\\end{center}"
      ],
      "text/plain": [
       "<class 'statsmodels.iolib.summary.Summary'>\n",
       "\"\"\"\n",
       "                           Logit Regression Results                           \n",
       "==============================================================================\n",
       "Dep. Variable:                  Churn   No. Observations:                 9991\n",
       "Model:                          Logit   Df Residuals:                     9977\n",
       "Method:                           MLE   Df Model:                           13\n",
       "Date:                Wed, 22 Nov 2023   Pseudo R-squ.:                  0.4675\n",
       "Time:                        13:45:23   Log-Likelihood:                -3077.6\n",
       "converged:                       True   LL-Null:                       -5779.4\n",
       "Covariance Type:            nonrobust   LLR p-value:                     0.000\n",
       "=======================================================================================\n",
       "                          coef    std err          z      P>|z|      [0.025      0.975]\n",
       "---------------------------------------------------------------------------------------\n",
       "Intercept              -2.8255      0.172    -16.398      0.000      -3.163      -2.488\n",
       "Population          -1.829e-06   2.28e-06     -0.803      0.422    -6.3e-06    2.64e-06\n",
       "Age                     0.0028      0.002      1.815      0.070      -0.000       0.006\n",
       "Income               1.072e-06   1.15e-06      0.928      0.353   -1.19e-06    3.34e-06\n",
       "Techie                  0.7575      0.084      9.033      0.000       0.593       0.922\n",
       "Port_modem              0.1070      0.064      1.665      0.096      -0.019       0.233\n",
       "Phone                  -0.2947      0.109     -2.715      0.007      -0.507      -0.082\n",
       "Multiple                1.1402      0.067     17.076      0.000       1.009       1.271\n",
       "OnlineSecurity         -0.1388      0.067     -2.068      0.039      -0.270      -0.007\n",
       "OnlineBackup            0.5739      0.065      8.812      0.000       0.446       0.702\n",
       "StreamingTV             2.0946      0.074     28.438      0.000       1.950       2.239\n",
       "StreamingMovies         2.5267      0.076     33.142      0.000       2.377       2.676\n",
       "Tenure                 -0.0808      0.002    -42.351      0.000      -0.085      -0.077\n",
       "InternetService_DSL     0.9222      0.068     13.541      0.000       0.789       1.056\n",
       "=======================================================================================\n",
       "\"\"\""
      ]
     },
     "execution_count": 54,
     "metadata": {},
     "output_type": "execute_result"
    }
   ],
   "source": [
    "# Yearly_equip_failure highest p > 0.05. Remove from model\n",
    "model_reduced5 = logit(\"Churn ~ Population + Age + Income + Techie + Port_modem + Phone + Multiple + OnlineSecurity + OnlineBackup + StreamingTV + StreamingMovies + Tenure + InternetService_DSL\", \n",
    "                      data=df).fit()\n",
    "\n",
    "model_reduced5.summary()"
   ]
  },
  {
   "cell_type": "code",
   "execution_count": 55,
   "id": "b3afc43c-7ce6-4c9d-8d90-98ff9ac845f6",
   "metadata": {},
   "outputs": [
    {
     "name": "stdout",
     "output_type": "stream",
     "text": [
      "Optimization terminated successfully.\n",
      "         Current function value: 0.308074\n",
      "         Iterations 8\n"
     ]
    },
    {
     "data": {
      "text/html": [
       "<table class=\"simpletable\">\n",
       "<caption>Logit Regression Results</caption>\n",
       "<tr>\n",
       "  <th>Dep. Variable:</th>         <td>Churn</td>      <th>  No. Observations:  </th>  <td>  9991</td> \n",
       "</tr>\n",
       "<tr>\n",
       "  <th>Model:</th>                 <td>Logit</td>      <th>  Df Residuals:      </th>  <td>  9978</td> \n",
       "</tr>\n",
       "<tr>\n",
       "  <th>Method:</th>                 <td>MLE</td>       <th>  Df Model:          </th>  <td>    12</td> \n",
       "</tr>\n",
       "<tr>\n",
       "  <th>Date:</th>            <td>Wed, 22 Nov 2023</td> <th>  Pseudo R-squ.:     </th>  <td>0.4674</td> \n",
       "</tr>\n",
       "<tr>\n",
       "  <th>Time:</th>                <td>13:46:17</td>     <th>  Log-Likelihood:    </th> <td> -3078.0</td>\n",
       "</tr>\n",
       "<tr>\n",
       "  <th>converged:</th>             <td>True</td>       <th>  LL-Null:           </th> <td> -5779.4</td>\n",
       "</tr>\n",
       "<tr>\n",
       "  <th>Covariance Type:</th>     <td>nonrobust</td>    <th>  LLR p-value:       </th>  <td> 0.000</td> \n",
       "</tr>\n",
       "</table>\n",
       "<table class=\"simpletable\">\n",
       "<tr>\n",
       "           <td></td>              <th>coef</th>     <th>std err</th>      <th>z</th>      <th>P>|z|</th>  <th>[0.025</th>    <th>0.975]</th>  \n",
       "</tr>\n",
       "<tr>\n",
       "  <th>Intercept</th>           <td>   -2.8417</td> <td>    0.171</td> <td>  -16.602</td> <td> 0.000</td> <td>   -3.177</td> <td>   -2.506</td>\n",
       "</tr>\n",
       "<tr>\n",
       "  <th>Age</th>                 <td>    0.0028</td> <td>    0.002</td> <td>    1.796</td> <td> 0.073</td> <td>   -0.000</td> <td>    0.006</td>\n",
       "</tr>\n",
       "<tr>\n",
       "  <th>Income</th>              <td> 1.086e-06</td> <td> 1.15e-06</td> <td>    0.941</td> <td> 0.347</td> <td>-1.18e-06</td> <td> 3.35e-06</td>\n",
       "</tr>\n",
       "<tr>\n",
       "  <th>Techie</th>              <td>    0.7579</td> <td>    0.084</td> <td>    9.037</td> <td> 0.000</td> <td>    0.594</td> <td>    0.922</td>\n",
       "</tr>\n",
       "<tr>\n",
       "  <th>Port_modem</th>          <td>    0.1071</td> <td>    0.064</td> <td>    1.666</td> <td> 0.096</td> <td>   -0.019</td> <td>    0.233</td>\n",
       "</tr>\n",
       "<tr>\n",
       "  <th>Phone</th>               <td>   -0.2953</td> <td>    0.109</td> <td>   -2.720</td> <td> 0.007</td> <td>   -0.508</td> <td>   -0.083</td>\n",
       "</tr>\n",
       "<tr>\n",
       "  <th>Multiple</th>            <td>    1.1402</td> <td>    0.067</td> <td>   17.077</td> <td> 0.000</td> <td>    1.009</td> <td>    1.271</td>\n",
       "</tr>\n",
       "<tr>\n",
       "  <th>OnlineSecurity</th>      <td>   -0.1393</td> <td>    0.067</td> <td>   -2.076</td> <td> 0.038</td> <td>   -0.271</td> <td>   -0.008</td>\n",
       "</tr>\n",
       "<tr>\n",
       "  <th>OnlineBackup</th>        <td>    0.5732</td> <td>    0.065</td> <td>    8.804</td> <td> 0.000</td> <td>    0.446</td> <td>    0.701</td>\n",
       "</tr>\n",
       "<tr>\n",
       "  <th>StreamingTV</th>         <td>    2.0951</td> <td>    0.074</td> <td>   28.446</td> <td> 0.000</td> <td>    1.951</td> <td>    2.240</td>\n",
       "</tr>\n",
       "<tr>\n",
       "  <th>StreamingMovies</th>     <td>    2.5263</td> <td>    0.076</td> <td>   33.141</td> <td> 0.000</td> <td>    2.377</td> <td>    2.676</td>\n",
       "</tr>\n",
       "<tr>\n",
       "  <th>Tenure</th>              <td>   -0.0808</td> <td>    0.002</td> <td>  -42.351</td> <td> 0.000</td> <td>   -0.085</td> <td>   -0.077</td>\n",
       "</tr>\n",
       "<tr>\n",
       "  <th>InternetService_DSL</th> <td>    0.9229</td> <td>    0.068</td> <td>   13.553</td> <td> 0.000</td> <td>    0.789</td> <td>    1.056</td>\n",
       "</tr>\n",
       "</table>"
      ],
      "text/latex": [
       "\\begin{center}\n",
       "\\begin{tabular}{lclc}\n",
       "\\toprule\n",
       "\\textbf{Dep. Variable:}       &      Churn       & \\textbf{  No. Observations:  } &     9991    \\\\\n",
       "\\textbf{Model:}               &      Logit       & \\textbf{  Df Residuals:      } &     9978    \\\\\n",
       "\\textbf{Method:}              &       MLE        & \\textbf{  Df Model:          } &       12    \\\\\n",
       "\\textbf{Date:}                & Wed, 22 Nov 2023 & \\textbf{  Pseudo R-squ.:     } &   0.4674    \\\\\n",
       "\\textbf{Time:}                &     13:46:17     & \\textbf{  Log-Likelihood:    } &   -3078.0   \\\\\n",
       "\\textbf{converged:}           &       True       & \\textbf{  LL-Null:           } &   -5779.4   \\\\\n",
       "\\textbf{Covariance Type:}     &    nonrobust     & \\textbf{  LLR p-value:       } &    0.000    \\\\\n",
       "\\bottomrule\n",
       "\\end{tabular}\n",
       "\\begin{tabular}{lcccccc}\n",
       "                              & \\textbf{coef} & \\textbf{std err} & \\textbf{z} & \\textbf{P$> |$z$|$} & \\textbf{[0.025} & \\textbf{0.975]}  \\\\\n",
       "\\midrule\n",
       "\\textbf{Intercept}            &      -2.8417  &        0.171     &   -16.602  &         0.000        &       -3.177    &       -2.506     \\\\\n",
       "\\textbf{Age}                  &       0.0028  &        0.002     &     1.796  &         0.073        &       -0.000    &        0.006     \\\\\n",
       "\\textbf{Income}               &    1.086e-06  &     1.15e-06     &     0.941  &         0.347        &    -1.18e-06    &     3.35e-06     \\\\\n",
       "\\textbf{Techie}               &       0.7579  &        0.084     &     9.037  &         0.000        &        0.594    &        0.922     \\\\\n",
       "\\textbf{Port\\_modem}          &       0.1071  &        0.064     &     1.666  &         0.096        &       -0.019    &        0.233     \\\\\n",
       "\\textbf{Phone}                &      -0.2953  &        0.109     &    -2.720  &         0.007        &       -0.508    &       -0.083     \\\\\n",
       "\\textbf{Multiple}             &       1.1402  &        0.067     &    17.077  &         0.000        &        1.009    &        1.271     \\\\\n",
       "\\textbf{OnlineSecurity}       &      -0.1393  &        0.067     &    -2.076  &         0.038        &       -0.271    &       -0.008     \\\\\n",
       "\\textbf{OnlineBackup}         &       0.5732  &        0.065     &     8.804  &         0.000        &        0.446    &        0.701     \\\\\n",
       "\\textbf{StreamingTV}          &       2.0951  &        0.074     &    28.446  &         0.000        &        1.951    &        2.240     \\\\\n",
       "\\textbf{StreamingMovies}      &       2.5263  &        0.076     &    33.141  &         0.000        &        2.377    &        2.676     \\\\\n",
       "\\textbf{Tenure}               &      -0.0808  &        0.002     &   -42.351  &         0.000        &       -0.085    &       -0.077     \\\\\n",
       "\\textbf{InternetService\\_DSL} &       0.9229  &        0.068     &    13.553  &         0.000        &        0.789    &        1.056     \\\\\n",
       "\\bottomrule\n",
       "\\end{tabular}\n",
       "%\\caption{Logit Regression Results}\n",
       "\\end{center}"
      ],
      "text/plain": [
       "<class 'statsmodels.iolib.summary.Summary'>\n",
       "\"\"\"\n",
       "                           Logit Regression Results                           \n",
       "==============================================================================\n",
       "Dep. Variable:                  Churn   No. Observations:                 9991\n",
       "Model:                          Logit   Df Residuals:                     9978\n",
       "Method:                           MLE   Df Model:                           12\n",
       "Date:                Wed, 22 Nov 2023   Pseudo R-squ.:                  0.4674\n",
       "Time:                        13:46:17   Log-Likelihood:                -3078.0\n",
       "converged:                       True   LL-Null:                       -5779.4\n",
       "Covariance Type:            nonrobust   LLR p-value:                     0.000\n",
       "=======================================================================================\n",
       "                          coef    std err          z      P>|z|      [0.025      0.975]\n",
       "---------------------------------------------------------------------------------------\n",
       "Intercept              -2.8417      0.171    -16.602      0.000      -3.177      -2.506\n",
       "Age                     0.0028      0.002      1.796      0.073      -0.000       0.006\n",
       "Income               1.086e-06   1.15e-06      0.941      0.347   -1.18e-06    3.35e-06\n",
       "Techie                  0.7579      0.084      9.037      0.000       0.594       0.922\n",
       "Port_modem              0.1071      0.064      1.666      0.096      -0.019       0.233\n",
       "Phone                  -0.2953      0.109     -2.720      0.007      -0.508      -0.083\n",
       "Multiple                1.1402      0.067     17.077      0.000       1.009       1.271\n",
       "OnlineSecurity         -0.1393      0.067     -2.076      0.038      -0.271      -0.008\n",
       "OnlineBackup            0.5732      0.065      8.804      0.000       0.446       0.701\n",
       "StreamingTV             2.0951      0.074     28.446      0.000       1.951       2.240\n",
       "StreamingMovies         2.5263      0.076     33.141      0.000       2.377       2.676\n",
       "Tenure                 -0.0808      0.002    -42.351      0.000      -0.085      -0.077\n",
       "InternetService_DSL     0.9229      0.068     13.553      0.000       0.789       1.056\n",
       "=======================================================================================\n",
       "\"\"\""
      ]
     },
     "execution_count": 55,
     "metadata": {},
     "output_type": "execute_result"
    }
   ],
   "source": [
    "# Population highest p > 0.05. Remove from model\n",
    "model_reduced6 = logit(\"Churn ~ Age + Income + Techie + Port_modem + Phone + Multiple + OnlineSecurity + OnlineBackup + StreamingTV + StreamingMovies + Tenure + InternetService_DSL\", \n",
    "                      data=df).fit()\n",
    "\n",
    "model_reduced6.summary()"
   ]
  },
  {
   "cell_type": "code",
   "execution_count": 56,
   "id": "c6553f34-438a-4bbf-968c-7ee92793af1f",
   "metadata": {},
   "outputs": [
    {
     "name": "stdout",
     "output_type": "stream",
     "text": [
      "Optimization terminated successfully.\n",
      "         Current function value: 0.308118\n",
      "         Iterations 8\n"
     ]
    },
    {
     "data": {
      "text/html": [
       "<table class=\"simpletable\">\n",
       "<caption>Logit Regression Results</caption>\n",
       "<tr>\n",
       "  <th>Dep. Variable:</th>         <td>Churn</td>      <th>  No. Observations:  </th>  <td>  9991</td> \n",
       "</tr>\n",
       "<tr>\n",
       "  <th>Model:</th>                 <td>Logit</td>      <th>  Df Residuals:      </th>  <td>  9979</td> \n",
       "</tr>\n",
       "<tr>\n",
       "  <th>Method:</th>                 <td>MLE</td>       <th>  Df Model:          </th>  <td>    11</td> \n",
       "</tr>\n",
       "<tr>\n",
       "  <th>Date:</th>            <td>Wed, 22 Nov 2023</td> <th>  Pseudo R-squ.:     </th>  <td>0.4674</td> \n",
       "</tr>\n",
       "<tr>\n",
       "  <th>Time:</th>                <td>13:46:54</td>     <th>  Log-Likelihood:    </th> <td> -3078.4</td>\n",
       "</tr>\n",
       "<tr>\n",
       "  <th>converged:</th>             <td>True</td>       <th>  LL-Null:           </th> <td> -5779.4</td>\n",
       "</tr>\n",
       "<tr>\n",
       "  <th>Covariance Type:</th>     <td>nonrobust</td>    <th>  LLR p-value:       </th>  <td> 0.000</td> \n",
       "</tr>\n",
       "</table>\n",
       "<table class=\"simpletable\">\n",
       "<tr>\n",
       "           <td></td>              <th>coef</th>     <th>std err</th>      <th>z</th>      <th>P>|z|</th>  <th>[0.025</th>    <th>0.975]</th>  \n",
       "</tr>\n",
       "<tr>\n",
       "  <th>Intercept</th>           <td>   -2.7969</td> <td>    0.164</td> <td>  -17.026</td> <td> 0.000</td> <td>   -3.119</td> <td>   -2.475</td>\n",
       "</tr>\n",
       "<tr>\n",
       "  <th>Age</th>                 <td>    0.0028</td> <td>    0.002</td> <td>    1.790</td> <td> 0.073</td> <td>   -0.000</td> <td>    0.006</td>\n",
       "</tr>\n",
       "<tr>\n",
       "  <th>Techie</th>              <td>    0.7579</td> <td>    0.084</td> <td>    9.038</td> <td> 0.000</td> <td>    0.594</td> <td>    0.922</td>\n",
       "</tr>\n",
       "<tr>\n",
       "  <th>Port_modem</th>          <td>    0.1063</td> <td>    0.064</td> <td>    1.655</td> <td> 0.098</td> <td>   -0.020</td> <td>    0.232</td>\n",
       "</tr>\n",
       "<tr>\n",
       "  <th>Phone</th>               <td>   -0.2956</td> <td>    0.109</td> <td>   -2.723</td> <td> 0.006</td> <td>   -0.508</td> <td>   -0.083</td>\n",
       "</tr>\n",
       "<tr>\n",
       "  <th>Multiple</th>            <td>    1.1400</td> <td>    0.067</td> <td>   17.075</td> <td> 0.000</td> <td>    1.009</td> <td>    1.271</td>\n",
       "</tr>\n",
       "<tr>\n",
       "  <th>OnlineSecurity</th>      <td>   -0.1407</td> <td>    0.067</td> <td>   -2.097</td> <td> 0.036</td> <td>   -0.272</td> <td>   -0.009</td>\n",
       "</tr>\n",
       "<tr>\n",
       "  <th>OnlineBackup</th>        <td>    0.5728</td> <td>    0.065</td> <td>    8.799</td> <td> 0.000</td> <td>    0.445</td> <td>    0.700</td>\n",
       "</tr>\n",
       "<tr>\n",
       "  <th>StreamingTV</th>         <td>    2.0949</td> <td>    0.074</td> <td>   28.444</td> <td> 0.000</td> <td>    1.951</td> <td>    2.239</td>\n",
       "</tr>\n",
       "<tr>\n",
       "  <th>StreamingMovies</th>     <td>    2.5260</td> <td>    0.076</td> <td>   33.140</td> <td> 0.000</td> <td>    2.377</td> <td>    2.675</td>\n",
       "</tr>\n",
       "<tr>\n",
       "  <th>Tenure</th>              <td>   -0.0808</td> <td>    0.002</td> <td>  -42.352</td> <td> 0.000</td> <td>   -0.085</td> <td>   -0.077</td>\n",
       "</tr>\n",
       "<tr>\n",
       "  <th>InternetService_DSL</th> <td>    0.9243</td> <td>    0.068</td> <td>   13.575</td> <td> 0.000</td> <td>    0.791</td> <td>    1.058</td>\n",
       "</tr>\n",
       "</table>"
      ],
      "text/latex": [
       "\\begin{center}\n",
       "\\begin{tabular}{lclc}\n",
       "\\toprule\n",
       "\\textbf{Dep. Variable:}       &      Churn       & \\textbf{  No. Observations:  } &     9991    \\\\\n",
       "\\textbf{Model:}               &      Logit       & \\textbf{  Df Residuals:      } &     9979    \\\\\n",
       "\\textbf{Method:}              &       MLE        & \\textbf{  Df Model:          } &       11    \\\\\n",
       "\\textbf{Date:}                & Wed, 22 Nov 2023 & \\textbf{  Pseudo R-squ.:     } &   0.4674    \\\\\n",
       "\\textbf{Time:}                &     13:46:54     & \\textbf{  Log-Likelihood:    } &   -3078.4   \\\\\n",
       "\\textbf{converged:}           &       True       & \\textbf{  LL-Null:           } &   -5779.4   \\\\\n",
       "\\textbf{Covariance Type:}     &    nonrobust     & \\textbf{  LLR p-value:       } &    0.000    \\\\\n",
       "\\bottomrule\n",
       "\\end{tabular}\n",
       "\\begin{tabular}{lcccccc}\n",
       "                              & \\textbf{coef} & \\textbf{std err} & \\textbf{z} & \\textbf{P$> |$z$|$} & \\textbf{[0.025} & \\textbf{0.975]}  \\\\\n",
       "\\midrule\n",
       "\\textbf{Intercept}            &      -2.7969  &        0.164     &   -17.026  &         0.000        &       -3.119    &       -2.475     \\\\\n",
       "\\textbf{Age}                  &       0.0028  &        0.002     &     1.790  &         0.073        &       -0.000    &        0.006     \\\\\n",
       "\\textbf{Techie}               &       0.7579  &        0.084     &     9.038  &         0.000        &        0.594    &        0.922     \\\\\n",
       "\\textbf{Port\\_modem}          &       0.1063  &        0.064     &     1.655  &         0.098        &       -0.020    &        0.232     \\\\\n",
       "\\textbf{Phone}                &      -0.2956  &        0.109     &    -2.723  &         0.006        &       -0.508    &       -0.083     \\\\\n",
       "\\textbf{Multiple}             &       1.1400  &        0.067     &    17.075  &         0.000        &        1.009    &        1.271     \\\\\n",
       "\\textbf{OnlineSecurity}       &      -0.1407  &        0.067     &    -2.097  &         0.036        &       -0.272    &       -0.009     \\\\\n",
       "\\textbf{OnlineBackup}         &       0.5728  &        0.065     &     8.799  &         0.000        &        0.445    &        0.700     \\\\\n",
       "\\textbf{StreamingTV}          &       2.0949  &        0.074     &    28.444  &         0.000        &        1.951    &        2.239     \\\\\n",
       "\\textbf{StreamingMovies}      &       2.5260  &        0.076     &    33.140  &         0.000        &        2.377    &        2.675     \\\\\n",
       "\\textbf{Tenure}               &      -0.0808  &        0.002     &   -42.352  &         0.000        &       -0.085    &       -0.077     \\\\\n",
       "\\textbf{InternetService\\_DSL} &       0.9243  &        0.068     &    13.575  &         0.000        &        0.791    &        1.058     \\\\\n",
       "\\bottomrule\n",
       "\\end{tabular}\n",
       "%\\caption{Logit Regression Results}\n",
       "\\end{center}"
      ],
      "text/plain": [
       "<class 'statsmodels.iolib.summary.Summary'>\n",
       "\"\"\"\n",
       "                           Logit Regression Results                           \n",
       "==============================================================================\n",
       "Dep. Variable:                  Churn   No. Observations:                 9991\n",
       "Model:                          Logit   Df Residuals:                     9979\n",
       "Method:                           MLE   Df Model:                           11\n",
       "Date:                Wed, 22 Nov 2023   Pseudo R-squ.:                  0.4674\n",
       "Time:                        13:46:54   Log-Likelihood:                -3078.4\n",
       "converged:                       True   LL-Null:                       -5779.4\n",
       "Covariance Type:            nonrobust   LLR p-value:                     0.000\n",
       "=======================================================================================\n",
       "                          coef    std err          z      P>|z|      [0.025      0.975]\n",
       "---------------------------------------------------------------------------------------\n",
       "Intercept              -2.7969      0.164    -17.026      0.000      -3.119      -2.475\n",
       "Age                     0.0028      0.002      1.790      0.073      -0.000       0.006\n",
       "Techie                  0.7579      0.084      9.038      0.000       0.594       0.922\n",
       "Port_modem              0.1063      0.064      1.655      0.098      -0.020       0.232\n",
       "Phone                  -0.2956      0.109     -2.723      0.006      -0.508      -0.083\n",
       "Multiple                1.1400      0.067     17.075      0.000       1.009       1.271\n",
       "OnlineSecurity         -0.1407      0.067     -2.097      0.036      -0.272      -0.009\n",
       "OnlineBackup            0.5728      0.065      8.799      0.000       0.445       0.700\n",
       "StreamingTV             2.0949      0.074     28.444      0.000       1.951       2.239\n",
       "StreamingMovies         2.5260      0.076     33.140      0.000       2.377       2.675\n",
       "Tenure                 -0.0808      0.002    -42.352      0.000      -0.085      -0.077\n",
       "InternetService_DSL     0.9243      0.068     13.575      0.000       0.791       1.058\n",
       "=======================================================================================\n",
       "\"\"\""
      ]
     },
     "execution_count": 56,
     "metadata": {},
     "output_type": "execute_result"
    }
   ],
   "source": [
    "# Income highest p > 0.05. Remove from model\n",
    "model_reduced7 = logit(\"Churn ~ Age + Techie + Port_modem + Phone + Multiple + OnlineSecurity + OnlineBackup + StreamingTV + StreamingMovies + Tenure + InternetService_DSL\", \n",
    "                      data=df).fit()\n",
    "\n",
    "model_reduced7.summary()"
   ]
  },
  {
   "cell_type": "code",
   "execution_count": 58,
   "id": "d15fec9b-060d-4412-95bd-92561f16e235",
   "metadata": {},
   "outputs": [
    {
     "name": "stdout",
     "output_type": "stream",
     "text": [
      "Optimization terminated successfully.\n",
      "         Current function value: 0.308255\n",
      "         Iterations 8\n"
     ]
    },
    {
     "data": {
      "text/html": [
       "<table class=\"simpletable\">\n",
       "<caption>Logit Regression Results</caption>\n",
       "<tr>\n",
       "  <th>Dep. Variable:</th>         <td>Churn</td>      <th>  No. Observations:  </th>  <td>  9991</td> \n",
       "</tr>\n",
       "<tr>\n",
       "  <th>Model:</th>                 <td>Logit</td>      <th>  Df Residuals:      </th>  <td>  9980</td> \n",
       "</tr>\n",
       "<tr>\n",
       "  <th>Method:</th>                 <td>MLE</td>       <th>  Df Model:          </th>  <td>    10</td> \n",
       "</tr>\n",
       "<tr>\n",
       "  <th>Date:</th>            <td>Wed, 22 Nov 2023</td> <th>  Pseudo R-squ.:     </th>  <td>0.4671</td> \n",
       "</tr>\n",
       "<tr>\n",
       "  <th>Time:</th>                <td>13:48:47</td>     <th>  Log-Likelihood:    </th> <td> -3079.8</td>\n",
       "</tr>\n",
       "<tr>\n",
       "  <th>converged:</th>             <td>True</td>       <th>  LL-Null:           </th> <td> -5779.4</td>\n",
       "</tr>\n",
       "<tr>\n",
       "  <th>Covariance Type:</th>     <td>nonrobust</td>    <th>  LLR p-value:       </th>  <td> 0.000</td> \n",
       "</tr>\n",
       "</table>\n",
       "<table class=\"simpletable\">\n",
       "<tr>\n",
       "           <td></td>              <th>coef</th>     <th>std err</th>      <th>z</th>      <th>P>|z|</th>  <th>[0.025</th>    <th>0.975]</th>  \n",
       "</tr>\n",
       "<tr>\n",
       "  <th>Intercept</th>           <td>   -2.7465</td> <td>    0.161</td> <td>  -17.034</td> <td> 0.000</td> <td>   -3.063</td> <td>   -2.430</td>\n",
       "</tr>\n",
       "<tr>\n",
       "  <th>Age</th>                 <td>    0.0028</td> <td>    0.002</td> <td>    1.803</td> <td> 0.071</td> <td>   -0.000</td> <td>    0.006</td>\n",
       "</tr>\n",
       "<tr>\n",
       "  <th>Techie</th>              <td>    0.7549</td> <td>    0.084</td> <td>    9.009</td> <td> 0.000</td> <td>    0.591</td> <td>    0.919</td>\n",
       "</tr>\n",
       "<tr>\n",
       "  <th>Phone</th>               <td>   -0.2948</td> <td>    0.108</td> <td>   -2.718</td> <td> 0.007</td> <td>   -0.507</td> <td>   -0.082</td>\n",
       "</tr>\n",
       "<tr>\n",
       "  <th>Multiple</th>            <td>    1.1382</td> <td>    0.067</td> <td>   17.057</td> <td> 0.000</td> <td>    1.007</td> <td>    1.269</td>\n",
       "</tr>\n",
       "<tr>\n",
       "  <th>OnlineSecurity</th>      <td>   -0.1406</td> <td>    0.067</td> <td>   -2.096</td> <td> 0.036</td> <td>   -0.272</td> <td>   -0.009</td>\n",
       "</tr>\n",
       "<tr>\n",
       "  <th>OnlineBackup</th>        <td>    0.5725</td> <td>    0.065</td> <td>    8.797</td> <td> 0.000</td> <td>    0.445</td> <td>    0.700</td>\n",
       "</tr>\n",
       "<tr>\n",
       "  <th>StreamingTV</th>         <td>    2.0948</td> <td>    0.074</td> <td>   28.448</td> <td> 0.000</td> <td>    1.951</td> <td>    2.239</td>\n",
       "</tr>\n",
       "<tr>\n",
       "  <th>StreamingMovies</th>     <td>    2.5260</td> <td>    0.076</td> <td>   33.145</td> <td> 0.000</td> <td>    2.377</td> <td>    2.675</td>\n",
       "</tr>\n",
       "<tr>\n",
       "  <th>Tenure</th>              <td>   -0.0807</td> <td>    0.002</td> <td>  -42.333</td> <td> 0.000</td> <td>   -0.084</td> <td>   -0.077</td>\n",
       "</tr>\n",
       "<tr>\n",
       "  <th>InternetService_DSL</th> <td>    0.9242</td> <td>    0.068</td> <td>   13.578</td> <td> 0.000</td> <td>    0.791</td> <td>    1.058</td>\n",
       "</tr>\n",
       "</table>"
      ],
      "text/latex": [
       "\\begin{center}\n",
       "\\begin{tabular}{lclc}\n",
       "\\toprule\n",
       "\\textbf{Dep. Variable:}       &      Churn       & \\textbf{  No. Observations:  } &     9991    \\\\\n",
       "\\textbf{Model:}               &      Logit       & \\textbf{  Df Residuals:      } &     9980    \\\\\n",
       "\\textbf{Method:}              &       MLE        & \\textbf{  Df Model:          } &       10    \\\\\n",
       "\\textbf{Date:}                & Wed, 22 Nov 2023 & \\textbf{  Pseudo R-squ.:     } &   0.4671    \\\\\n",
       "\\textbf{Time:}                &     13:48:47     & \\textbf{  Log-Likelihood:    } &   -3079.8   \\\\\n",
       "\\textbf{converged:}           &       True       & \\textbf{  LL-Null:           } &   -5779.4   \\\\\n",
       "\\textbf{Covariance Type:}     &    nonrobust     & \\textbf{  LLR p-value:       } &    0.000    \\\\\n",
       "\\bottomrule\n",
       "\\end{tabular}\n",
       "\\begin{tabular}{lcccccc}\n",
       "                              & \\textbf{coef} & \\textbf{std err} & \\textbf{z} & \\textbf{P$> |$z$|$} & \\textbf{[0.025} & \\textbf{0.975]}  \\\\\n",
       "\\midrule\n",
       "\\textbf{Intercept}            &      -2.7465  &        0.161     &   -17.034  &         0.000        &       -3.063    &       -2.430     \\\\\n",
       "\\textbf{Age}                  &       0.0028  &        0.002     &     1.803  &         0.071        &       -0.000    &        0.006     \\\\\n",
       "\\textbf{Techie}               &       0.7549  &        0.084     &     9.009  &         0.000        &        0.591    &        0.919     \\\\\n",
       "\\textbf{Phone}                &      -0.2948  &        0.108     &    -2.718  &         0.007        &       -0.507    &       -0.082     \\\\\n",
       "\\textbf{Multiple}             &       1.1382  &        0.067     &    17.057  &         0.000        &        1.007    &        1.269     \\\\\n",
       "\\textbf{OnlineSecurity}       &      -0.1406  &        0.067     &    -2.096  &         0.036        &       -0.272    &       -0.009     \\\\\n",
       "\\textbf{OnlineBackup}         &       0.5725  &        0.065     &     8.797  &         0.000        &        0.445    &        0.700     \\\\\n",
       "\\textbf{StreamingTV}          &       2.0948  &        0.074     &    28.448  &         0.000        &        1.951    &        2.239     \\\\\n",
       "\\textbf{StreamingMovies}      &       2.5260  &        0.076     &    33.145  &         0.000        &        2.377    &        2.675     \\\\\n",
       "\\textbf{Tenure}               &      -0.0807  &        0.002     &   -42.333  &         0.000        &       -0.084    &       -0.077     \\\\\n",
       "\\textbf{InternetService\\_DSL} &       0.9242  &        0.068     &    13.578  &         0.000        &        0.791    &        1.058     \\\\\n",
       "\\bottomrule\n",
       "\\end{tabular}\n",
       "%\\caption{Logit Regression Results}\n",
       "\\end{center}"
      ],
      "text/plain": [
       "<class 'statsmodels.iolib.summary.Summary'>\n",
       "\"\"\"\n",
       "                           Logit Regression Results                           \n",
       "==============================================================================\n",
       "Dep. Variable:                  Churn   No. Observations:                 9991\n",
       "Model:                          Logit   Df Residuals:                     9980\n",
       "Method:                           MLE   Df Model:                           10\n",
       "Date:                Wed, 22 Nov 2023   Pseudo R-squ.:                  0.4671\n",
       "Time:                        13:48:47   Log-Likelihood:                -3079.8\n",
       "converged:                       True   LL-Null:                       -5779.4\n",
       "Covariance Type:            nonrobust   LLR p-value:                     0.000\n",
       "=======================================================================================\n",
       "                          coef    std err          z      P>|z|      [0.025      0.975]\n",
       "---------------------------------------------------------------------------------------\n",
       "Intercept              -2.7465      0.161    -17.034      0.000      -3.063      -2.430\n",
       "Age                     0.0028      0.002      1.803      0.071      -0.000       0.006\n",
       "Techie                  0.7549      0.084      9.009      0.000       0.591       0.919\n",
       "Phone                  -0.2948      0.108     -2.718      0.007      -0.507      -0.082\n",
       "Multiple                1.1382      0.067     17.057      0.000       1.007       1.269\n",
       "OnlineSecurity         -0.1406      0.067     -2.096      0.036      -0.272      -0.009\n",
       "OnlineBackup            0.5725      0.065      8.797      0.000       0.445       0.700\n",
       "StreamingTV             2.0948      0.074     28.448      0.000       1.951       2.239\n",
       "StreamingMovies         2.5260      0.076     33.145      0.000       2.377       2.675\n",
       "Tenure                 -0.0807      0.002    -42.333      0.000      -0.084      -0.077\n",
       "InternetService_DSL     0.9242      0.068     13.578      0.000       0.791       1.058\n",
       "=======================================================================================\n",
       "\"\"\""
      ]
     },
     "execution_count": 58,
     "metadata": {},
     "output_type": "execute_result"
    }
   ],
   "source": [
    "# Port_modem highest p > 0.05. Remove from model\n",
    "model_reduced8 = logit(\"Churn ~ Age + Techie + Phone + Multiple + OnlineSecurity + OnlineBackup + StreamingTV + StreamingMovies + Tenure + InternetService_DSL\", \n",
    "                      data=df).fit()\n",
    "\n",
    "model_reduced8.summary()"
   ]
  },
  {
   "cell_type": "code",
   "execution_count": 59,
   "id": "0f34980e-ce9a-44a9-aac1-ae15d9de4ff3",
   "metadata": {},
   "outputs": [
    {
     "name": "stdout",
     "output_type": "stream",
     "text": [
      "Optimization terminated successfully.\n",
      "         Current function value: 0.308418\n",
      "         Iterations 8\n"
     ]
    },
    {
     "data": {
      "text/html": [
       "<table class=\"simpletable\">\n",
       "<caption>Logit Regression Results</caption>\n",
       "<tr>\n",
       "  <th>Dep. Variable:</th>         <td>Churn</td>      <th>  No. Observations:  </th>  <td>  9991</td> \n",
       "</tr>\n",
       "<tr>\n",
       "  <th>Model:</th>                 <td>Logit</td>      <th>  Df Residuals:      </th>  <td>  9981</td> \n",
       "</tr>\n",
       "<tr>\n",
       "  <th>Method:</th>                 <td>MLE</td>       <th>  Df Model:          </th>  <td>     9</td> \n",
       "</tr>\n",
       "<tr>\n",
       "  <th>Date:</th>            <td>Wed, 22 Nov 2023</td> <th>  Pseudo R-squ.:     </th>  <td>0.4668</td> \n",
       "</tr>\n",
       "<tr>\n",
       "  <th>Time:</th>                <td>13:49:30</td>     <th>  Log-Likelihood:    </th> <td> -3081.4</td>\n",
       "</tr>\n",
       "<tr>\n",
       "  <th>converged:</th>             <td>True</td>       <th>  LL-Null:           </th> <td> -5779.4</td>\n",
       "</tr>\n",
       "<tr>\n",
       "  <th>Covariance Type:</th>     <td>nonrobust</td>    <th>  LLR p-value:       </th>  <td> 0.000</td> \n",
       "</tr>\n",
       "</table>\n",
       "<table class=\"simpletable\">\n",
       "<tr>\n",
       "           <td></td>              <th>coef</th>     <th>std err</th>      <th>z</th>      <th>P>|z|</th>  <th>[0.025</th>    <th>0.975]</th>  \n",
       "</tr>\n",
       "<tr>\n",
       "  <th>Intercept</th>           <td>   -2.5972</td> <td>    0.138</td> <td>  -18.837</td> <td> 0.000</td> <td>   -2.867</td> <td>   -2.327</td>\n",
       "</tr>\n",
       "<tr>\n",
       "  <th>Techie</th>              <td>    0.7532</td> <td>    0.084</td> <td>    8.991</td> <td> 0.000</td> <td>    0.589</td> <td>    0.917</td>\n",
       "</tr>\n",
       "<tr>\n",
       "  <th>Phone</th>               <td>   -0.2941</td> <td>    0.108</td> <td>   -2.713</td> <td> 0.007</td> <td>   -0.507</td> <td>   -0.082</td>\n",
       "</tr>\n",
       "<tr>\n",
       "  <th>Multiple</th>            <td>    1.1361</td> <td>    0.067</td> <td>   17.035</td> <td> 0.000</td> <td>    1.005</td> <td>    1.267</td>\n",
       "</tr>\n",
       "<tr>\n",
       "  <th>OnlineSecurity</th>      <td>   -0.1416</td> <td>    0.067</td> <td>   -2.111</td> <td> 0.035</td> <td>   -0.273</td> <td>   -0.010</td>\n",
       "</tr>\n",
       "<tr>\n",
       "  <th>OnlineBackup</th>        <td>    0.5727</td> <td>    0.065</td> <td>    8.803</td> <td> 0.000</td> <td>    0.445</td> <td>    0.700</td>\n",
       "</tr>\n",
       "<tr>\n",
       "  <th>StreamingTV</th>         <td>    2.0939</td> <td>    0.074</td> <td>   28.449</td> <td> 0.000</td> <td>    1.950</td> <td>    2.238</td>\n",
       "</tr>\n",
       "<tr>\n",
       "  <th>StreamingMovies</th>     <td>    2.5250</td> <td>    0.076</td> <td>   33.147</td> <td> 0.000</td> <td>    2.376</td> <td>    2.674</td>\n",
       "</tr>\n",
       "<tr>\n",
       "  <th>Tenure</th>              <td>   -0.0806</td> <td>    0.002</td> <td>  -42.341</td> <td> 0.000</td> <td>   -0.084</td> <td>   -0.077</td>\n",
       "</tr>\n",
       "<tr>\n",
       "  <th>InternetService_DSL</th> <td>    0.9218</td> <td>    0.068</td> <td>   13.551</td> <td> 0.000</td> <td>    0.788</td> <td>    1.055</td>\n",
       "</tr>\n",
       "</table>"
      ],
      "text/latex": [
       "\\begin{center}\n",
       "\\begin{tabular}{lclc}\n",
       "\\toprule\n",
       "\\textbf{Dep. Variable:}       &      Churn       & \\textbf{  No. Observations:  } &     9991    \\\\\n",
       "\\textbf{Model:}               &      Logit       & \\textbf{  Df Residuals:      } &     9981    \\\\\n",
       "\\textbf{Method:}              &       MLE        & \\textbf{  Df Model:          } &        9    \\\\\n",
       "\\textbf{Date:}                & Wed, 22 Nov 2023 & \\textbf{  Pseudo R-squ.:     } &   0.4668    \\\\\n",
       "\\textbf{Time:}                &     13:49:30     & \\textbf{  Log-Likelihood:    } &   -3081.4   \\\\\n",
       "\\textbf{converged:}           &       True       & \\textbf{  LL-Null:           } &   -5779.4   \\\\\n",
       "\\textbf{Covariance Type:}     &    nonrobust     & \\textbf{  LLR p-value:       } &    0.000    \\\\\n",
       "\\bottomrule\n",
       "\\end{tabular}\n",
       "\\begin{tabular}{lcccccc}\n",
       "                              & \\textbf{coef} & \\textbf{std err} & \\textbf{z} & \\textbf{P$> |$z$|$} & \\textbf{[0.025} & \\textbf{0.975]}  \\\\\n",
       "\\midrule\n",
       "\\textbf{Intercept}            &      -2.5972  &        0.138     &   -18.837  &         0.000        &       -2.867    &       -2.327     \\\\\n",
       "\\textbf{Techie}               &       0.7532  &        0.084     &     8.991  &         0.000        &        0.589    &        0.917     \\\\\n",
       "\\textbf{Phone}                &      -0.2941  &        0.108     &    -2.713  &         0.007        &       -0.507    &       -0.082     \\\\\n",
       "\\textbf{Multiple}             &       1.1361  &        0.067     &    17.035  &         0.000        &        1.005    &        1.267     \\\\\n",
       "\\textbf{OnlineSecurity}       &      -0.1416  &        0.067     &    -2.111  &         0.035        &       -0.273    &       -0.010     \\\\\n",
       "\\textbf{OnlineBackup}         &       0.5727  &        0.065     &     8.803  &         0.000        &        0.445    &        0.700     \\\\\n",
       "\\textbf{StreamingTV}          &       2.0939  &        0.074     &    28.449  &         0.000        &        1.950    &        2.238     \\\\\n",
       "\\textbf{StreamingMovies}      &       2.5250  &        0.076     &    33.147  &         0.000        &        2.376    &        2.674     \\\\\n",
       "\\textbf{Tenure}               &      -0.0806  &        0.002     &   -42.341  &         0.000        &       -0.084    &       -0.077     \\\\\n",
       "\\textbf{InternetService\\_DSL} &       0.9218  &        0.068     &    13.551  &         0.000        &        0.788    &        1.055     \\\\\n",
       "\\bottomrule\n",
       "\\end{tabular}\n",
       "%\\caption{Logit Regression Results}\n",
       "\\end{center}"
      ],
      "text/plain": [
       "<class 'statsmodels.iolib.summary.Summary'>\n",
       "\"\"\"\n",
       "                           Logit Regression Results                           \n",
       "==============================================================================\n",
       "Dep. Variable:                  Churn   No. Observations:                 9991\n",
       "Model:                          Logit   Df Residuals:                     9981\n",
       "Method:                           MLE   Df Model:                            9\n",
       "Date:                Wed, 22 Nov 2023   Pseudo R-squ.:                  0.4668\n",
       "Time:                        13:49:30   Log-Likelihood:                -3081.4\n",
       "converged:                       True   LL-Null:                       -5779.4\n",
       "Covariance Type:            nonrobust   LLR p-value:                     0.000\n",
       "=======================================================================================\n",
       "                          coef    std err          z      P>|z|      [0.025      0.975]\n",
       "---------------------------------------------------------------------------------------\n",
       "Intercept              -2.5972      0.138    -18.837      0.000      -2.867      -2.327\n",
       "Techie                  0.7532      0.084      8.991      0.000       0.589       0.917\n",
       "Phone                  -0.2941      0.108     -2.713      0.007      -0.507      -0.082\n",
       "Multiple                1.1361      0.067     17.035      0.000       1.005       1.267\n",
       "OnlineSecurity         -0.1416      0.067     -2.111      0.035      -0.273      -0.010\n",
       "OnlineBackup            0.5727      0.065      8.803      0.000       0.445       0.700\n",
       "StreamingTV             2.0939      0.074     28.449      0.000       1.950       2.238\n",
       "StreamingMovies         2.5250      0.076     33.147      0.000       2.376       2.674\n",
       "Tenure                 -0.0806      0.002    -42.341      0.000      -0.084      -0.077\n",
       "InternetService_DSL     0.9218      0.068     13.551      0.000       0.788       1.055\n",
       "=======================================================================================\n",
       "\"\"\""
      ]
     },
     "execution_count": 59,
     "metadata": {},
     "output_type": "execute_result"
    }
   ],
   "source": [
    "# Age highest p > 0.05. Remove from model\n",
    "model_reduced9 = logit(\"Churn ~ Techie + Phone + Multiple + OnlineSecurity + OnlineBackup + StreamingTV + StreamingMovies + Tenure + InternetService_DSL\", \n",
    "                      data=df).fit()\n",
    "\n",
    "model_reduced9.summary()"
   ]
  },
  {
   "cell_type": "code",
   "execution_count": null,
   "id": "3135df2b-4a82-44fa-95a2-fc4a82f33da4",
   "metadata": {},
   "outputs": [],
   "source": []
  },
  {
   "cell_type": "code",
   "execution_count": null,
   "id": "0ed75e3e-dc87-4334-b5e6-4a349aca32f1",
   "metadata": {},
   "outputs": [],
   "source": []
  },
  {
   "cell_type": "markdown",
   "id": "6004b216-65f8-4f0e-9663-71ef14e84697",
   "metadata": {},
   "source": [
    "## CONFUSION MATRIX & ACCURACY CALCULATION"
   ]
  },
  {
   "cell_type": "code",
   "execution_count": 60,
   "id": "e14adfab-dac1-46a4-8fb0-4464aee5f0a2",
   "metadata": {},
   "outputs": [],
   "source": [
    "conf_matrix = model_reduced9.pred_table()"
   ]
  },
  {
   "cell_type": "code",
   "execution_count": 61,
   "id": "f46d580a-c9d9-4391-9482-1a4fdd3b7c71",
   "metadata": {},
   "outputs": [
    {
     "name": "stdout",
     "output_type": "stream",
     "text": [
      "[[6758.  583.]\n",
      " [ 856. 1794.]]\n"
     ]
    }
   ],
   "source": [
    "print(conf_matrix)"
   ]
  },
  {
   "cell_type": "code",
   "execution_count": 62,
   "id": "e78764fc-c540-4269-a435-e65e21547ca5",
   "metadata": {},
   "outputs": [
    {
     "data": {
      "text/plain": [
       "(<Figure size 640x480 with 3 Axes>,\n",
       " {('0', '0'): (0.0, 0.0, 0.7311057563747672, 0.9175246114640342),\n",
       "  ('0', '1'): (0.0,\n",
       "   0.9208468706002467,\n",
       "   0.7311057563747672,\n",
       "   0.07915312939975314),\n",
       "  ('1', '0'): (0.7360808807528767,\n",
       "   0.0,\n",
       "   0.26391911924712347,\n",
       "   0.32194571553939694),\n",
       "  ('1', '1'): (0.7360808807528767,\n",
       "   0.3252679746756096,\n",
       "   0.26391911924712347,\n",
       "   0.6747320253243904)})"
      ]
     },
     "execution_count": 62,
     "metadata": {},
     "output_type": "execute_result"
    },
    {
     "data": {
      "image/png": "[encoded data removed]",
      "text/plain": [
       "<Figure size 640x480 with 3 Axes>"
      ]
     },
     "metadata": {},
     "output_type": "display_data"
    }
   ],
   "source": [
    "mosaic(conf_matrix)"
   ]
  },
  {
   "cell_type": "code",
   "execution_count": 63,
   "id": "be02d057-1333-4302-941c-dcb379f9049a",
   "metadata": {},
   "outputs": [],
   "source": [
    "TN = conf_matrix[0,0]\n",
    "TP = conf_matrix[1,1]\n",
    "FN = conf_matrix[1,0]\n",
    "FP = conf_matrix[0,1]"
   ]
  },
  {
   "cell_type": "code",
   "execution_count": 64,
   "id": "70aaca7c-2636-4b65-a683-6337a0f9673d",
   "metadata": {},
   "outputs": [
    {
     "name": "stdout",
     "output_type": "stream",
     "text": [
      "accuracy =  0.8559703733360025\n"
     ]
    }
   ],
   "source": [
    "accuracy = (TP + TN) / (TN + TP + FN + FP)\n",
    "print(\"accuracy = \", accuracy)"
   ]
  },
  {
   "cell_type": "code",
   "execution_count": 65,
   "id": "834b834c-3355-4cad-99af-8f0fa5882e5f",
   "metadata": {},
   "outputs": [
    {
     "name": "stdout",
     "output_type": "stream",
     "text": [
      "sensitivity =  0.6769811320754717\n"
     ]
    }
   ],
   "source": [
    "sensitivity = TP / (FN + TP)\n",
    "print(\"sensitivity = \", sensitivity)"
   ]
  },
  {
   "cell_type": "code",
   "execution_count": 66,
   "id": "1590f8dc-f8d5-4ba1-b014-a38e51d00050",
   "metadata": {},
   "outputs": [
    {
     "name": "stdout",
     "output_type": "stream",
     "text": [
      "specificity =  0.920583026835581\n"
     ]
    }
   ],
   "source": [
    "specificity = TN / (TN + FP)\n",
    "print(\"specificity = \", specificity)"
   ]
  },
  {
   "cell_type": "code",
   "execution_count": null,
   "id": "ab4d265b-04cd-4334-97f1-b50950bd5465",
   "metadata": {},
   "outputs": [],
   "source": []
  },
  {
   "cell_type": "code",
   "execution_count": null,
   "id": "aa6b39e1-c6ee-40f4-9b55-dcbb0003fa50",
   "metadata": {},
   "outputs": [],
   "source": []
  },
  {
   "cell_type": "code",
   "execution_count": null,
   "id": "5dfdad66-c5ea-456f-ab7c-e8dfed8d8c80",
   "metadata": {},
   "outputs": [],
   "source": []
  },
  {
   "cell_type": "markdown",
   "id": "3e227278-950f-4969-b2a0-78f9df19fcab",
   "metadata": {},
   "source": [
    "# **BIVARIATE VISUALIZATIONS**"
   ]
  },
  {
   "cell_type": "code",
   "execution_count": 32,
   "id": "8f9e2a55-1ef5-4c68-9e37-aebd27122e33",
   "metadata": {},
   "outputs": [
    {
     "data": {
      "text/plain": [
       "<Axes: xlabel='Yearly_equip_failure', ylabel='count'>"
      ]
     },
     "execution_count": 32,
     "metadata": {},
     "output_type": "execute_result"
    },
    {
     "data": {
      "image/png": "[encoded data removed]",
      "text/plain": [
       "<Figure size 640x480 with 1 Axes>"
      ]
     },
     "metadata": {},
     "output_type": "display_data"
    }
   ],
   "source": [
    "sns.countplot(x='Yearly_equip_failure', hue = 'Churn', data=df)"
   ]
  },
  {
   "cell_type": "code",
   "execution_count": 33,
   "id": "8c7bd994-9c0e-46be-8fde-6737c15b03ea",
   "metadata": {},
   "outputs": [
    {
     "data": {
      "text/plain": [
       "<Axes: xlabel='Techie', ylabel='count'>"
      ]
     },
     "execution_count": 33,
     "metadata": {},
     "output_type": "execute_result"
    },
    {
     "data": {
      "image/png": "[encoded data removed]",
      "text/plain": [
       "<Figure size 640x480 with 1 Axes>"
      ]
     },
     "metadata": {},
     "output_type": "display_data"
    }
   ],
   "source": [
    "sns.countplot(x='Techie', hue = 'Churn', data=df)"
   ]
  },
  {
   "cell_type": "code",
   "execution_count": 35,
   "id": "07c3eb6b-e352-4b26-a16a-d702d5157106",
   "metadata": {},
   "outputs": [
    {
     "data": {
      "text/plain": [
       "<Axes: xlabel='Port_modem', ylabel='count'>"
      ]
     },
     "execution_count": 35,
     "metadata": {},
     "output_type": "execute_result"
    },
    {
     "data": {
      "image/png": "[encoded data removed]",
      "text/plain": [
       "<Figure size 640x480 with 1 Axes>"
      ]
     },
     "metadata": {},
     "output_type": "display_data"
    }
   ],
   "source": [
    "sns.countplot(x='Port_modem', hue = 'Churn', data=df)"
   ]
  },
  {
   "cell_type": "code",
   "execution_count": 36,
   "id": "5308732f-bbe9-4cb7-9bec-96bae8f90395",
   "metadata": {},
   "outputs": [
    {
     "data": {
      "text/plain": [
       "<Axes: xlabel='Tablet', ylabel='count'>"
      ]
     },
     "execution_count": 36,
     "metadata": {},
     "output_type": "execute_result"
    },
    {
     "data": {
      "image/png": "[encoded data removed]",
      "text/plain": [
       "<Figure size 640x480 with 1 Axes>"
      ]
     },
     "metadata": {},
     "output_type": "display_data"
    }
   ],
   "source": [
    "sns.countplot(x='Tablet', hue = 'Churn', data=df)"
   ]
  },
  {
   "cell_type": "code",
   "execution_count": 37,
   "id": "9173b4ff-5711-429d-8a59-2cdf417190d8",
   "metadata": {},
   "outputs": [
    {
     "data": {
      "text/plain": [
       "<Axes: xlabel='InternetService_DSL', ylabel='count'>"
      ]
     },
     "execution_count": 37,
     "metadata": {},
     "output_type": "execute_result"
    },
    {
     "data": {
      "image/png": "[encoded data removed]",
      "text/plain": [
       "<Figure size 640x480 with 1 Axes>"
      ]
     },
     "metadata": {},
     "output_type": "display_data"
    }
   ],
   "source": [
    "sns.countplot(x='InternetService_DSL', hue = 'Churn', data=df)"
   ]
  },
  {
   "cell_type": "code",
   "execution_count": 38,
   "id": "c73fc207-6c22-4733-b762-97ab6effd252",
   "metadata": {},
   "outputs": [
    {
     "data": {
      "text/plain": [
       "<Axes: xlabel='InternetService_FiberOptic', ylabel='count'>"
      ]
     },
     "execution_count": 38,
     "metadata": {},
     "output_type": "execute_result"
    },
    {
     "data": {
      "image/png": "[encoded data removed]",
      "text/plain": [
       "<Figure size 640x480 with 1 Axes>"
      ]
     },
     "metadata": {},
     "output_type": "display_data"
    }
   ],
   "source": [
    "sns.countplot(x='InternetService_FiberOptic', hue = 'Churn', data=df)"
   ]
  },
  {
   "cell_type": "code",
   "execution_count": 39,
   "id": "a8042b5b-5bfc-4ac2-a825-d435262ebb92",
   "metadata": {},
   "outputs": [
    {
     "data": {
      "text/plain": [
       "<Axes: xlabel='Phone', ylabel='count'>"
      ]
     },
     "execution_count": 39,
     "metadata": {},
     "output_type": "execute_result"
    },
    {
     "data": {
      "image/png": "[encoded data removed]",
      "text/plain": [
       "<Figure size 640x480 with 1 Axes>"
      ]
     },
     "metadata": {},
     "output_type": "display_data"
    }
   ],
   "source": [
    "sns.countplot(x='Phone', hue = 'Churn', data=df)"
   ]
  },
  {
   "cell_type": "code",
   "execution_count": 40,
   "id": "10ba3fa1-63da-4da5-9af1-f228c4ba4a84",
   "metadata": {},
   "outputs": [
    {
     "data": {
      "text/plain": [
       "<Axes: xlabel='Multiple', ylabel='count'>"
      ]
     },
     "execution_count": 40,
     "metadata": {},
     "output_type": "execute_result"
    },
    {
     "data": {
      "image/png": "[encoded data removed]",
      "text/plain": [
       "<Figure size 640x480 with 1 Axes>"
      ]
     },
     "metadata": {},
     "output_type": "display_data"
    }
   ],
   "source": [
    "sns.countplot(x='Multiple', hue = 'Churn', data=df)"
   ]
  },
  {
   "cell_type": "code",
   "execution_count": 41,
   "id": "726f5cf3-a524-45c5-b8a4-122b5edf0579",
   "metadata": {},
   "outputs": [
    {
     "data": {
      "text/plain": [
       "<Axes: xlabel='OnlineSecurity', ylabel='count'>"
      ]
     },
     "execution_count": 41,
     "metadata": {},
     "output_type": "execute_result"
    },
    {
     "data": {
      "image/png": "[encoded data removed]",
      "text/plain": [
       "<Figure size 640x480 with 1 Axes>"
      ]
     },
     "metadata": {},
     "output_type": "display_data"
    }
   ],
   "source": [
    "sns.countplot(x='OnlineSecurity', hue = 'Churn', data=df)"
   ]
  },
  {
   "cell_type": "code",
   "execution_count": 42,
   "id": "c0023e9d-25d7-4638-a1da-779fe7d9f263",
   "metadata": {},
   "outputs": [
    {
     "data": {
      "text/plain": [
       "<Axes: xlabel='OnlineBackup', ylabel='count'>"
      ]
     },
     "execution_count": 42,
     "metadata": {},
     "output_type": "execute_result"
    },
    {
     "data": {
      "image/png": "[encoded data removed]",
      "text/plain": [
       "<Figure size 640x480 with 1 Axes>"
      ]
     },
     "metadata": {},
     "output_type": "display_data"
    }
   ],
   "source": [
    "sns.countplot(x='OnlineBackup', hue = 'Churn', data=df)"
   ]
  },
  {
   "cell_type": "code",
   "execution_count": 43,
   "id": "280fb07a-9b02-45a7-8517-38e53117d455",
   "metadata": {},
   "outputs": [
    {
     "data": {
      "text/plain": [
       "<Axes: xlabel='StreamingTV', ylabel='count'>"
      ]
     },
     "execution_count": 43,
     "metadata": {},
     "output_type": "execute_result"
    },
    {
     "data": {
      "image/png": "[encoded data removed]",
      "text/plain": [
       "<Figure size 640x480 with 1 Axes>"
      ]
     },
     "metadata": {},
     "output_type": "display_data"
    }
   ],
   "source": [
    "sns.countplot(x='StreamingTV', hue = 'Churn', data=df)"
   ]
  },
  {
   "cell_type": "code",
   "execution_count": 44,
   "id": "5190da31-fc89-4023-bd37-23e717924305",
   "metadata": {},
   "outputs": [
    {
     "data": {
      "text/plain": [
       "<Axes: xlabel='StreamingMovies', ylabel='count'>"
      ]
     },
     "execution_count": 44,
     "metadata": {},
     "output_type": "execute_result"
    },
    {
     "data": {
      "image/png": "[encoded data removed]",
      "text/plain": [
       "<Figure size 640x480 with 1 Axes>"
      ]
     },
     "metadata": {},
     "output_type": "display_data"
    }
   ],
   "source": [
    "sns.countplot(x='StreamingMovies', hue = 'Churn', data=df)"
   ]
  },
  {
   "cell_type": "code",
   "execution_count": 45,
   "id": "152d20b1-45e7-46fd-978e-48f6bb46bade",
   "metadata": {},
   "outputs": [
    {
     "data": {
      "text/plain": [
       "<Axes: xlabel='Churn', ylabel='count'>"
      ]
     },
     "execution_count": 45,
     "metadata": {},
     "output_type": "execute_result"
    },
    {
     "data": {
      "image/png": "[encoded data removed]",
      "text/plain": [
       "<Figure size 640x480 with 1 Axes>"
      ]
     },
     "metadata": {},
     "output_type": "display_data"
    }
   ],
   "source": [
    "sns.countplot(x='Churn', hue = 'Churn', data=df)"
   ]
  },
  {
   "cell_type": "code",
   "execution_count": 46,
   "id": "811895fa-16f8-47d8-8b13-5d47bbe16c44",
   "metadata": {},
   "outputs": [
    {
     "data": {
      "text/plain": [
       "<Axes: xlabel='Population', ylabel='Count'>"
      ]
     },
     "execution_count": 46,
     "metadata": {},
     "output_type": "execute_result"
    },
    {
     "data": {
      "image/png": "[encoded data removed]",
      "text/plain": [
       "<Figure size 640x480 with 1 Axes>"
      ]
     },
     "metadata": {},
     "output_type": "display_data"
    }
   ],
   "source": [
    "sns.histplot(x=\"Population\", hue = \"Churn\", data=df)"
   ]
  },
  {
   "cell_type": "code",
   "execution_count": 47,
   "id": "35040f19-e228-4039-984c-7ec87eae694c",
   "metadata": {},
   "outputs": [
    {
     "data": {
      "text/plain": [
       "<Axes: xlabel='Age', ylabel='Count'>"
      ]
     },
     "execution_count": 47,
     "metadata": {},
     "output_type": "execute_result"
    },
    {
     "data": {
      "image/png": "[encoded data removed]",
      "text/plain": [
       "<Figure size 640x480 with 1 Axes>"
      ]
     },
     "metadata": {},
     "output_type": "display_data"
    }
   ],
   "source": [
    "sns.histplot(x=\"Age\", hue = \"Churn\", data=df)"
   ]
  },
  {
   "cell_type": "code",
   "execution_count": 48,
   "id": "a08a64dd-f068-4600-8bed-e4b644a83feb",
   "metadata": {},
   "outputs": [
    {
     "data": {
      "text/plain": [
       "<Axes: xlabel='Income', ylabel='Count'>"
      ]
     },
     "execution_count": 48,
     "metadata": {},
     "output_type": "execute_result"
    },
    {
     "data": {
      "image/png": "[encoded data removed]",
      "text/plain": [
       "<Figure size 640x480 with 1 Axes>"
      ]
     },
     "metadata": {},
     "output_type": "display_data"
    }
   ],
   "source": [
    "sns.histplot(x=\"Income\", hue = \"Churn\", data=df)"
   ]
  },
  {
   "cell_type": "code",
   "execution_count": 49,
   "id": "d835b7d7-5158-4e2e-84a9-9047dd9b3140",
   "metadata": {},
   "outputs": [
    {
     "data": {
      "text/plain": [
       "<Axes: xlabel='Bandwidth_GB_Year', ylabel='Count'>"
      ]
     },
     "execution_count": 49,
     "metadata": {},
     "output_type": "execute_result"
    },
    {
     "data": {
      "image/png": "[encoded data removed]",
      "text/plain": [
       "<Figure size 640x480 with 1 Axes>"
      ]
     },
     "metadata": {},
     "output_type": "display_data"
    }
   ],
   "source": [
    "sns.histplot(x=\"Bandwidth_GB_Year\", hue = \"Churn\", data=df)"
   ]
  },
  {
   "cell_type": "code",
   "execution_count": 50,
   "id": "b5a8b96f-c2f4-48fe-938d-34bc97d84b4c",
   "metadata": {},
   "outputs": [
    {
     "data": {
      "text/plain": [
       "<Axes: xlabel='Outage_sec_perweek', ylabel='Count'>"
      ]
     },
     "execution_count": 50,
     "metadata": {},
     "output_type": "execute_result"
    },
    {
     "data": {
      "image/png": "[encoded data removed]",
      "text/plain": [
       "<Figure size 640x480 with 1 Axes>"
      ]
     },
     "metadata": {},
     "output_type": "display_data"
    }
   ],
   "source": [
    "sns.histplot(x=\"Outage_sec_perweek\", hue = \"Churn\", data=df)"
   ]
  },
  {
   "cell_type": "code",
   "execution_count": 51,
   "id": "2285bc8d-0698-4dd6-9edb-ff659ceb8199",
   "metadata": {},
   "outputs": [
    {
     "data": {
      "text/plain": [
       "<Axes: xlabel='Tenure', ylabel='Count'>"
      ]
     },
     "execution_count": 51,
     "metadata": {},
     "output_type": "execute_result"
    },
    {
     "data": {
      "image/png": "[encoded data removed]",
      "text/plain": [
       "<Figure size 640x480 with 1 Axes>"
      ]
     },
     "metadata": {},
     "output_type": "display_data"
    }
   ],
   "source": [
    "sns.histplot(x=\"Tenure\", hue = \"Churn\", data=df)"
   ]
  },
  {
   "cell_type": "code",
   "execution_count": 52,
   "id": "e33defce-c741-45c0-9bfd-cb102a5c73f7",
   "metadata": {},
   "outputs": [
    {
     "data": {
      "text/plain": [
       "<Axes: xlabel='MonthlyCharge', ylabel='Count'>"
      ]
     },
     "execution_count": 52,
     "metadata": {},
     "output_type": "execute_result"
    },
    {
     "data": {
      "image/png": "[encoded data removed]",
      "text/plain": [
       "<Figure size 640x480 with 1 Axes>"
      ]
     },
     "metadata": {},
     "output_type": "display_data"
    }
   ],
   "source": [
    "sns.histplot(x=\"MonthlyCharge\", hue = \"Churn\", data=df)"
   ]
  },
  {
   "cell_type": "code",
   "execution_count": null,
   "id": "8edc865f-d598-4bdd-b8e9-9d26f922a3bd",
   "metadata": {},
   "outputs": [],
   "source": []
  }
 ],
 "metadata": {
  "kernelspec": {
   "display_name": "Python 3 (ipykernel)",
   "language": "python",
   "name": "python3"
  },
  "language_info": {
   "codemirror_mode": {
    "name": "ipython",
    "version": 3
   },
   "file_extension": ".py",
   "mimetype": "text/x-python",
   "name": "python",
   "nbconvert_exporter": "python",
   "pygments_lexer": "ipython3",
   "version": "3.10.11"
  }
 },
 "nbformat": 4,
 "nbformat_minor": 5
}
